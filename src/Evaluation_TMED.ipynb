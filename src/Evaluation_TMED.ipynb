{
 "cells": [
  {
   "cell_type": "code",
   "execution_count": 1,
   "id": "6d1a3364",
   "metadata": {},
   "outputs": [],
   "source": [
    "# evaluation of models on the test set\n",
    "\n",
    "import os\n",
    "import numpy as np\n",
    "import pandas as pd\n",
    "import glob\n",
    "import re\n",
    "from scipy.special import softmax\n",
    "\n",
    "from scipy.io import loadmat\n",
    "from skimage.transform import resize\n",
    "from sklearn.metrics import f1_score, confusion_matrix, balanced_accuracy_score, accuracy_score\n",
    "import PIL.Image as Image\n",
    "import matplotlib.pyplot as plt\n",
    "\n",
    "from platt_scaling import platt_scaling_fit\n",
    "from conformal_pred_algos import *\n",
    "from conformal_pred_metrics import *"
   ]
  },
  {
   "cell_type": "code",
   "execution_count": 2,
   "id": "20179b78",
   "metadata": {},
   "outputs": [],
   "source": [
    "def LoadImage(file_path):\n",
    "    im = Image.open(file_path)\n",
    "    im = np.asarray(im)/255\n",
    "    return im\n",
    "\n",
    "def ShowGrayscaleImage(file_path, title='', ax=None):\n",
    "    \n",
    "    im = Image.open(file_path)\n",
    "    im.show()\n",
    "#     if ax is None:\n",
    "#         plt.figure()\n",
    "#     plt.axis('off')\n",
    "#     plt.imshow(im , cmap=plt.cm.gray, vmin=0, vmax=1) #im is of float, 0-1\n",
    "#     plt.title(title)\n",
    "    \n",
    "def get_TMED_image_by_id(uid):\n",
    "    ShowGrayscaleImage(uid)"
   ]
  },
  {
   "cell_type": "code",
   "execution_count": 3,
   "id": "5d606b58",
   "metadata": {},
   "outputs": [],
   "source": [
    "dataset = 'TMED'\n",
    "if dataset == 'TMED':\n",
    "    methods = ['Default', 'LE=1']\n",
    "    log_root = \"../logs/\"\n",
    "    val_csvs = [\"tmed_high_lr/round0/csvs/val_12_0.58.csv\", \"tmed_high_lr/round1/csvs/val_14_0.65.csv\"]\n",
    "    test_csvs = [\"tmed_high_lr/round0/csvs/test_15_0.60.csv\", \"tmed_high_lr/round1/csvs/test_15_0.61.csv\"]\n",
    "    \n",
    "    view_log_root = \"../logs/R18_tmed_view/csvs/\"\n",
    "    view_val_csv = view_log_root + \"val_28_0.86.csv\"\n",
    "    view_test_csv = view_log_root + \"test_30_0.86.csv\"\n",
    "    \n",
    "    val_csvs = [log_root + m for m in val_csvs]\n",
    "    test_csvs = [log_root + m for m in test_csvs]"
   ]
  },
  {
   "cell_type": "code",
   "execution_count": 4,
   "id": "6281888f",
   "metadata": {},
   "outputs": [],
   "source": [
    "# collect the dataframes\n",
    "df_val = [pd.read_csv(x) for x in val_csvs]\n",
    "df_test = [pd.read_csv(x) for x in test_csvs]\n",
    "df_view_val = pd.read_csv(view_val_csv)\n",
    "df_view_test = pd.read_csv(view_test_csv)"
   ]
  },
  {
   "cell_type": "code",
   "execution_count": 5,
   "id": "3b1c08c3",
   "metadata": {},
   "outputs": [
    {
     "data": {
      "text/html": [
       "<div>\n",
       "<style scoped>\n",
       "    .dataframe tbody tr th:only-of-type {\n",
       "        vertical-align: middle;\n",
       "    }\n",
       "\n",
       "    .dataframe tbody tr th {\n",
       "        vertical-align: top;\n",
       "    }\n",
       "\n",
       "    .dataframe thead th {\n",
       "        text-align: right;\n",
       "    }\n",
       "</style>\n",
       "<table border=\"1\" class=\"dataframe\">\n",
       "  <thead>\n",
       "    <tr style=\"text-align: right;\">\n",
       "      <th></th>\n",
       "      <th>Unnamed: 0</th>\n",
       "      <th>filename</th>\n",
       "      <th>y</th>\n",
       "      <th>outputs_0</th>\n",
       "      <th>outputs_1</th>\n",
       "      <th>outputs_2</th>\n",
       "    </tr>\n",
       "  </thead>\n",
       "  <tbody>\n",
       "    <tr>\n",
       "      <th>0</th>\n",
       "      <td>0</td>\n",
       "      <td>/data/TMED/approved_users_only/view_and_diagno...</td>\n",
       "      <td>2</td>\n",
       "      <td>1.664437</td>\n",
       "      <td>-6.069416</td>\n",
       "      <td>3.576227</td>\n",
       "    </tr>\n",
       "    <tr>\n",
       "      <th>1</th>\n",
       "      <td>1</td>\n",
       "      <td>/data/TMED/approved_users_only/view_and_diagno...</td>\n",
       "      <td>2</td>\n",
       "      <td>-7.693852</td>\n",
       "      <td>2.053133</td>\n",
       "      <td>3.239326</td>\n",
       "    </tr>\n",
       "    <tr>\n",
       "      <th>2</th>\n",
       "      <td>2</td>\n",
       "      <td>/data/TMED/approved_users_only/view_and_diagno...</td>\n",
       "      <td>2</td>\n",
       "      <td>-3.415044</td>\n",
       "      <td>1.684520</td>\n",
       "      <td>0.185808</td>\n",
       "    </tr>\n",
       "    <tr>\n",
       "      <th>3</th>\n",
       "      <td>3</td>\n",
       "      <td>/data/TMED/approved_users_only/view_and_diagno...</td>\n",
       "      <td>2</td>\n",
       "      <td>-3.697043</td>\n",
       "      <td>0.542567</td>\n",
       "      <td>1.451734</td>\n",
       "    </tr>\n",
       "    <tr>\n",
       "      <th>4</th>\n",
       "      <td>4</td>\n",
       "      <td>/data/TMED/approved_users_only/view_and_diagno...</td>\n",
       "      <td>2</td>\n",
       "      <td>-3.975106</td>\n",
       "      <td>2.219419</td>\n",
       "      <td>0.083989</td>\n",
       "    </tr>\n",
       "    <tr>\n",
       "      <th>...</th>\n",
       "      <td>...</td>\n",
       "      <td>...</td>\n",
       "      <td>...</td>\n",
       "      <td>...</td>\n",
       "      <td>...</td>\n",
       "      <td>...</td>\n",
       "    </tr>\n",
       "    <tr>\n",
       "      <th>3597</th>\n",
       "      <td>3597</td>\n",
       "      <td>/data/TMED/approved_users_only/view_and_diagno...</td>\n",
       "      <td>1</td>\n",
       "      <td>-0.595184</td>\n",
       "      <td>-3.493111</td>\n",
       "      <td>2.974856</td>\n",
       "    </tr>\n",
       "    <tr>\n",
       "      <th>3598</th>\n",
       "      <td>3598</td>\n",
       "      <td>/data/TMED/approved_users_only/view_and_diagno...</td>\n",
       "      <td>1</td>\n",
       "      <td>-2.332581</td>\n",
       "      <td>-2.781833</td>\n",
       "      <td>3.652832</td>\n",
       "    </tr>\n",
       "    <tr>\n",
       "      <th>3599</th>\n",
       "      <td>3599</td>\n",
       "      <td>/data/TMED/approved_users_only/view_and_diagno...</td>\n",
       "      <td>1</td>\n",
       "      <td>-3.702657</td>\n",
       "      <td>-2.329664</td>\n",
       "      <td>4.270867</td>\n",
       "    </tr>\n",
       "    <tr>\n",
       "      <th>3600</th>\n",
       "      <td>3600</td>\n",
       "      <td>/data/TMED/approved_users_only/view_and_diagno...</td>\n",
       "      <td>1</td>\n",
       "      <td>-7.233850</td>\n",
       "      <td>1.786338</td>\n",
       "      <td>3.092496</td>\n",
       "    </tr>\n",
       "    <tr>\n",
       "      <th>3601</th>\n",
       "      <td>3601</td>\n",
       "      <td>/data/TMED/approved_users_only/view_and_diagno...</td>\n",
       "      <td>1</td>\n",
       "      <td>-5.100270</td>\n",
       "      <td>-2.611408</td>\n",
       "      <td>5.568544</td>\n",
       "    </tr>\n",
       "  </tbody>\n",
       "</table>\n",
       "<p>3602 rows × 6 columns</p>\n",
       "</div>"
      ],
      "text/plain": [
       "      Unnamed: 0                                           filename  y  \\\n",
       "0              0  /data/TMED/approved_users_only/view_and_diagno...  2   \n",
       "1              1  /data/TMED/approved_users_only/view_and_diagno...  2   \n",
       "2              2  /data/TMED/approved_users_only/view_and_diagno...  2   \n",
       "3              3  /data/TMED/approved_users_only/view_and_diagno...  2   \n",
       "4              4  /data/TMED/approved_users_only/view_and_diagno...  2   \n",
       "...          ...                                                ... ..   \n",
       "3597        3597  /data/TMED/approved_users_only/view_and_diagno...  1   \n",
       "3598        3598  /data/TMED/approved_users_only/view_and_diagno...  1   \n",
       "3599        3599  /data/TMED/approved_users_only/view_and_diagno...  1   \n",
       "3600        3600  /data/TMED/approved_users_only/view_and_diagno...  1   \n",
       "3601        3601  /data/TMED/approved_users_only/view_and_diagno...  1   \n",
       "\n",
       "      outputs_0  outputs_1  outputs_2  \n",
       "0      1.664437  -6.069416   3.576227  \n",
       "1     -7.693852   2.053133   3.239326  \n",
       "2     -3.415044   1.684520   0.185808  \n",
       "3     -3.697043   0.542567   1.451734  \n",
       "4     -3.975106   2.219419   0.083989  \n",
       "...         ...        ...        ...  \n",
       "3597  -0.595184  -3.493111   2.974856  \n",
       "3598  -2.332581  -2.781833   3.652832  \n",
       "3599  -3.702657  -2.329664   4.270867  \n",
       "3600  -7.233850   1.786338   3.092496  \n",
       "3601  -5.100270  -2.611408   5.568544  \n",
       "\n",
       "[3602 rows x 6 columns]"
      ]
     },
     "execution_count": 5,
     "metadata": {},
     "output_type": "execute_result"
    }
   ],
   "source": [
    "df_val[0]"
   ]
  },
  {
   "cell_type": "code",
   "execution_count": 6,
   "id": "c38686c8",
   "metadata": {},
   "outputs": [
    {
     "data": {
      "text/html": [
       "<div>\n",
       "<style scoped>\n",
       "    .dataframe tbody tr th:only-of-type {\n",
       "        vertical-align: middle;\n",
       "    }\n",
       "\n",
       "    .dataframe tbody tr th {\n",
       "        vertical-align: top;\n",
       "    }\n",
       "\n",
       "    .dataframe thead th {\n",
       "        text-align: right;\n",
       "    }\n",
       "</style>\n",
       "<table border=\"1\" class=\"dataframe\">\n",
       "  <thead>\n",
       "    <tr style=\"text-align: right;\">\n",
       "      <th></th>\n",
       "      <th>Unnamed: 0</th>\n",
       "      <th>filename</th>\n",
       "      <th>y</th>\n",
       "      <th>outputs_0</th>\n",
       "      <th>outputs_1</th>\n",
       "      <th>outputs_2</th>\n",
       "      <th>outputs_3</th>\n",
       "      <th>outputs_4</th>\n",
       "    </tr>\n",
       "  </thead>\n",
       "  <tbody>\n",
       "    <tr>\n",
       "      <th>0</th>\n",
       "      <td>0</td>\n",
       "      <td>/data/TMED/approved_users_only/view_and_diagno...</td>\n",
       "      <td>2</td>\n",
       "      <td>-4.474420</td>\n",
       "      <td>-3.293290</td>\n",
       "      <td>6.873021</td>\n",
       "      <td>-0.333446</td>\n",
       "      <td>1.616674</td>\n",
       "    </tr>\n",
       "    <tr>\n",
       "      <th>1</th>\n",
       "      <td>1</td>\n",
       "      <td>/data/TMED/approved_users_only/view_and_diagno...</td>\n",
       "      <td>2</td>\n",
       "      <td>-3.309696</td>\n",
       "      <td>-2.830891</td>\n",
       "      <td>8.621917</td>\n",
       "      <td>-2.180509</td>\n",
       "      <td>-0.649588</td>\n",
       "    </tr>\n",
       "    <tr>\n",
       "      <th>2</th>\n",
       "      <td>2</td>\n",
       "      <td>/data/TMED/approved_users_only/view_and_diagno...</td>\n",
       "      <td>1</td>\n",
       "      <td>2.004665</td>\n",
       "      <td>3.165979</td>\n",
       "      <td>-3.395484</td>\n",
       "      <td>-3.794709</td>\n",
       "      <td>1.437607</td>\n",
       "    </tr>\n",
       "    <tr>\n",
       "      <th>3</th>\n",
       "      <td>3</td>\n",
       "      <td>/data/TMED/approved_users_only/view_and_diagno...</td>\n",
       "      <td>1</td>\n",
       "      <td>-0.827677</td>\n",
       "      <td>0.754046</td>\n",
       "      <td>0.219749</td>\n",
       "      <td>-3.265019</td>\n",
       "      <td>3.110798</td>\n",
       "    </tr>\n",
       "    <tr>\n",
       "      <th>4</th>\n",
       "      <td>4</td>\n",
       "      <td>/data/TMED/approved_users_only/view_and_diagno...</td>\n",
       "      <td>1</td>\n",
       "      <td>0.029023</td>\n",
       "      <td>5.757953</td>\n",
       "      <td>-2.896789</td>\n",
       "      <td>-3.963840</td>\n",
       "      <td>0.544494</td>\n",
       "    </tr>\n",
       "    <tr>\n",
       "      <th>...</th>\n",
       "      <td>...</td>\n",
       "      <td>...</td>\n",
       "      <td>...</td>\n",
       "      <td>...</td>\n",
       "      <td>...</td>\n",
       "      <td>...</td>\n",
       "      <td>...</td>\n",
       "      <td>...</td>\n",
       "    </tr>\n",
       "    <tr>\n",
       "      <th>3597</th>\n",
       "      <td>3597</td>\n",
       "      <td>/data/TMED/approved_users_only/view_and_diagno...</td>\n",
       "      <td>2</td>\n",
       "      <td>-4.372354</td>\n",
       "      <td>-6.356860</td>\n",
       "      <td>11.311464</td>\n",
       "      <td>-0.824119</td>\n",
       "      <td>0.978929</td>\n",
       "    </tr>\n",
       "    <tr>\n",
       "      <th>3598</th>\n",
       "      <td>3598</td>\n",
       "      <td>/data/TMED/approved_users_only/view_and_diagno...</td>\n",
       "      <td>2</td>\n",
       "      <td>-5.248043</td>\n",
       "      <td>-3.611111</td>\n",
       "      <td>9.580708</td>\n",
       "      <td>0.401862</td>\n",
       "      <td>-0.767299</td>\n",
       "    </tr>\n",
       "    <tr>\n",
       "      <th>3599</th>\n",
       "      <td>3599</td>\n",
       "      <td>/data/TMED/approved_users_only/view_and_diagno...</td>\n",
       "      <td>1</td>\n",
       "      <td>-3.988742</td>\n",
       "      <td>6.446634</td>\n",
       "      <td>-3.618449</td>\n",
       "      <td>-2.065079</td>\n",
       "      <td>3.083159</td>\n",
       "    </tr>\n",
       "    <tr>\n",
       "      <th>3600</th>\n",
       "      <td>3600</td>\n",
       "      <td>/data/TMED/approved_users_only/view_and_diagno...</td>\n",
       "      <td>3</td>\n",
       "      <td>-3.226174</td>\n",
       "      <td>-5.905871</td>\n",
       "      <td>-2.053742</td>\n",
       "      <td>9.711393</td>\n",
       "      <td>2.308455</td>\n",
       "    </tr>\n",
       "    <tr>\n",
       "      <th>3601</th>\n",
       "      <td>3601</td>\n",
       "      <td>/data/TMED/approved_users_only/view_and_diagno...</td>\n",
       "      <td>1</td>\n",
       "      <td>-4.710282</td>\n",
       "      <td>7.890679</td>\n",
       "      <td>-4.906092</td>\n",
       "      <td>-0.631628</td>\n",
       "      <td>2.581307</td>\n",
       "    </tr>\n",
       "  </tbody>\n",
       "</table>\n",
       "<p>3602 rows × 8 columns</p>\n",
       "</div>"
      ],
      "text/plain": [
       "      Unnamed: 0                                           filename  y  \\\n",
       "0              0  /data/TMED/approved_users_only/view_and_diagno...  2   \n",
       "1              1  /data/TMED/approved_users_only/view_and_diagno...  2   \n",
       "2              2  /data/TMED/approved_users_only/view_and_diagno...  1   \n",
       "3              3  /data/TMED/approved_users_only/view_and_diagno...  1   \n",
       "4              4  /data/TMED/approved_users_only/view_and_diagno...  1   \n",
       "...          ...                                                ... ..   \n",
       "3597        3597  /data/TMED/approved_users_only/view_and_diagno...  2   \n",
       "3598        3598  /data/TMED/approved_users_only/view_and_diagno...  2   \n",
       "3599        3599  /data/TMED/approved_users_only/view_and_diagno...  1   \n",
       "3600        3600  /data/TMED/approved_users_only/view_and_diagno...  3   \n",
       "3601        3601  /data/TMED/approved_users_only/view_and_diagno...  1   \n",
       "\n",
       "      outputs_0  outputs_1  outputs_2  outputs_3  outputs_4  \n",
       "0     -4.474420  -3.293290   6.873021  -0.333446   1.616674  \n",
       "1     -3.309696  -2.830891   8.621917  -2.180509  -0.649588  \n",
       "2      2.004665   3.165979  -3.395484  -3.794709   1.437607  \n",
       "3     -0.827677   0.754046   0.219749  -3.265019   3.110798  \n",
       "4      0.029023   5.757953  -2.896789  -3.963840   0.544494  \n",
       "...         ...        ...        ...        ...        ...  \n",
       "3597  -4.372354  -6.356860  11.311464  -0.824119   0.978929  \n",
       "3598  -5.248043  -3.611111   9.580708   0.401862  -0.767299  \n",
       "3599  -3.988742   6.446634  -3.618449  -2.065079   3.083159  \n",
       "3600  -3.226174  -5.905871  -2.053742   9.711393   2.308455  \n",
       "3601  -4.710282   7.890679  -4.906092  -0.631628   2.581307  \n",
       "\n",
       "[3602 rows x 8 columns]"
      ]
     },
     "execution_count": 6,
     "metadata": {},
     "output_type": "execute_result"
    }
   ],
   "source": [
    "df_view_val"
   ]
  },
  {
   "cell_type": "code",
   "execution_count": 7,
   "id": "93637721",
   "metadata": {},
   "outputs": [],
   "source": [
    "def df_to_logits(df):\n",
    "    # take the outputs_x rows and conver them to array of (N, C)\n",
    "    cols = [x for x in df.columns if 'outputs' in x]\n",
    "    logits = df[cols].to_numpy()\n",
    "    return logits\n",
    "\n",
    "test_logits = [df_to_logits(x) for x in df_test]\n",
    "val_logits = [df_to_logits(x) for x in df_val]\n",
    "\n",
    "test_view_logits = df_to_logits(df_view_test)\n",
    "val_view_logits = df_to_logits(df_view_val)"
   ]
  },
  {
   "cell_type": "code",
   "execution_count": 8,
   "id": "bfd4c31c",
   "metadata": {},
   "outputs": [],
   "source": [
    "def get_calibration_data(sm, y):\n",
    "    # sm is N, C softmax output\n",
    "    # compute the accuracy of each confidence decile\n",
    "    confidences = np.max(sm, axis=1)\n",
    "    preds = np.argmax(sm, axis=1)\n",
    "    #print(confidences)\n",
    "    confidence_hist, bin_edges = np.histogram(confidences, bins=np.arange(11)/10)\n",
    "    #print(confidence_hist)\n",
    "    #print(bin_edges)\n",
    "    bin_association = np.digitize(confidences, bins=bin_edges)\n",
    "    #print(np.unique(bin_association))\n",
    "    calibration_x = []\n",
    "    calibration_y = []\n",
    "    ECE = 0\n",
    "    for i in range(10):\n",
    "        subset = bin_association == (i+1)\n",
    "        if confidence_hist[i] > 0:\n",
    "            acc = accuracy_score(y[subset], preds[subset])\n",
    "            calibration_x.append(i)\n",
    "            calibration_y.append(acc)\n",
    "            #print(np.mean(confidences[subset]))\n",
    "            # calculate ECE\n",
    "            ECE += confidence_hist[i] * np.abs(acc - np.mean(confidences[subset]))\n",
    "    ECE = ECE / len(y)\n",
    "    \n",
    "    return calibration_x, calibration_y, ECE"
   ]
  },
  {
   "cell_type": "code",
   "execution_count": 9,
   "id": "8a7dd2ca",
   "metadata": {},
   "outputs": [
    {
     "name": "stdout",
     "output_type": "stream",
     "text": [
      "Method = Default, Platt = False, ECE = 0.1419936363826432\n",
      "Method = LE=1, Platt = False, ECE = 0.02435712316437258\n",
      "View, Platt = False, ECE = 0.0859936476597173\n"
     ]
    }
   ],
   "source": [
    "# obtain confidences from the logits for each dataframe\n",
    "calibrate_diagnosis = False\n",
    "calibrate_view = False\n",
    "\n",
    "def get_preds_from_logits(val_logits, test_logits, val_y, platt=True):\n",
    "    if platt:\n",
    "        platt_coeffs = platt_scaling_fit(val_logits, val_y, mode=\"temp\")\n",
    "        test_preds = softmax(test_logits*platt_coeffs, axis=1)\n",
    "        val_preds = softmax(val_logits*platt_coeffs, axis=1)\n",
    "    else:\n",
    "        test_preds = softmax(test_logits, axis=1)\n",
    "        val_preds = softmax(val_logits, axis=1)\n",
    "\n",
    "    return test_preds, val_preds\n",
    "        \n",
    "test_preds = []\n",
    "val_preds = []\n",
    "for i in range(len(methods)):\n",
    "    t, v = get_preds_from_logits(val_logits[i], test_logits[i], df_val[i]['y'], platt=calibrate_diagnosis)\n",
    "    _, _, ece = get_calibration_data(t, df_test[i]['y'])\n",
    "    print(f\"Method = {methods[i]}, Platt = {calibrate_diagnosis}, ECE = {ece}\")\n",
    "    test_preds.append(t)\n",
    "    val_preds.append(v)\n",
    "    \n",
    "test_view_preds, val_view_preds = get_preds_from_logits(val_view_logits, test_view_logits, df_view_val['y'], platt=calibrate_view)\n",
    "_, _, ece = get_calibration_data(test_view_preds, df_view_test['y'])\n",
    "print(f\"View, Platt = {calibrate_view}, ECE = {ece}\")"
   ]
  },
  {
   "cell_type": "code",
   "execution_count": 10,
   "id": "42615a9f",
   "metadata": {},
   "outputs": [],
   "source": [
    "# put the preds back into the val/test dataframes\n",
    "def add_pred_columns_to_df(df, preds):\n",
    "    for j in range(preds.shape[1]):\n",
    "        df[f'preds_{j}'] = preds[:, j]\n",
    "\n",
    "for i in range(len(methods)):\n",
    "    add_pred_columns_to_df(df_test[i], test_preds[i])\n",
    "    add_pred_columns_to_df(df_val[i], val_preds[i])\n",
    "\n",
    "add_pred_columns_to_df(df_view_test, test_view_preds)\n",
    "add_pred_columns_to_df(df_view_val, val_view_preds)"
   ]
  },
  {
   "cell_type": "code",
   "execution_count": 11,
   "id": "34cff2cf",
   "metadata": {},
   "outputs": [
    {
     "data": {
      "text/html": [
       "<div>\n",
       "<style scoped>\n",
       "    .dataframe tbody tr th:only-of-type {\n",
       "        vertical-align: middle;\n",
       "    }\n",
       "\n",
       "    .dataframe tbody tr th {\n",
       "        vertical-align: top;\n",
       "    }\n",
       "\n",
       "    .dataframe thead th {\n",
       "        text-align: right;\n",
       "    }\n",
       "</style>\n",
       "<table border=\"1\" class=\"dataframe\">\n",
       "  <thead>\n",
       "    <tr style=\"text-align: right;\">\n",
       "      <th></th>\n",
       "      <th>Unnamed: 0</th>\n",
       "      <th>filename</th>\n",
       "      <th>y</th>\n",
       "      <th>outputs_0</th>\n",
       "      <th>outputs_1</th>\n",
       "      <th>outputs_2</th>\n",
       "      <th>preds_0</th>\n",
       "      <th>preds_1</th>\n",
       "      <th>preds_2</th>\n",
       "    </tr>\n",
       "  </thead>\n",
       "  <tbody>\n",
       "    <tr>\n",
       "      <th>0</th>\n",
       "      <td>0</td>\n",
       "      <td>/data/TMED/approved_users_only/view_and_diagno...</td>\n",
       "      <td>2</td>\n",
       "      <td>-4.357737</td>\n",
       "      <td>4.076598</td>\n",
       "      <td>-1.191372</td>\n",
       "      <td>2.161167e-04</td>\n",
       "      <td>0.994657</td>\n",
       "      <td>0.005127</td>\n",
       "    </tr>\n",
       "    <tr>\n",
       "      <th>1</th>\n",
       "      <td>1</td>\n",
       "      <td>/data/TMED/approved_users_only/view_and_diagno...</td>\n",
       "      <td>2</td>\n",
       "      <td>-6.257405</td>\n",
       "      <td>7.044814</td>\n",
       "      <td>-2.533562</td>\n",
       "      <td>1.670663e-06</td>\n",
       "      <td>0.999929</td>\n",
       "      <td>0.000069</td>\n",
       "    </tr>\n",
       "    <tr>\n",
       "      <th>2</th>\n",
       "      <td>2</td>\n",
       "      <td>/data/TMED/approved_users_only/view_and_diagno...</td>\n",
       "      <td>2</td>\n",
       "      <td>-8.174859</td>\n",
       "      <td>6.931254</td>\n",
       "      <td>-0.878789</td>\n",
       "      <td>2.749933e-07</td>\n",
       "      <td>0.999594</td>\n",
       "      <td>0.000405</td>\n",
       "    </tr>\n",
       "    <tr>\n",
       "      <th>3</th>\n",
       "      <td>3</td>\n",
       "      <td>/data/TMED/approved_users_only/view_and_diagno...</td>\n",
       "      <td>2</td>\n",
       "      <td>-4.265769</td>\n",
       "      <td>1.858843</td>\n",
       "      <td>0.925698</td>\n",
       "      <td>1.568138e-03</td>\n",
       "      <td>0.716587</td>\n",
       "      <td>0.281844</td>\n",
       "    </tr>\n",
       "    <tr>\n",
       "      <th>4</th>\n",
       "      <td>4</td>\n",
       "      <td>/data/TMED/approved_users_only/view_and_diagno...</td>\n",
       "      <td>2</td>\n",
       "      <td>-5.907566</td>\n",
       "      <td>-0.029820</td>\n",
       "      <td>3.759064</td>\n",
       "      <td>6.195760e-05</td>\n",
       "      <td>0.022119</td>\n",
       "      <td>0.977819</td>\n",
       "    </tr>\n",
       "    <tr>\n",
       "      <th>...</th>\n",
       "      <td>...</td>\n",
       "      <td>...</td>\n",
       "      <td>...</td>\n",
       "      <td>...</td>\n",
       "      <td>...</td>\n",
       "      <td>...</td>\n",
       "      <td>...</td>\n",
       "      <td>...</td>\n",
       "      <td>...</td>\n",
       "    </tr>\n",
       "    <tr>\n",
       "      <th>3597</th>\n",
       "      <td>3597</td>\n",
       "      <td>/data/TMED/approved_users_only/view_and_diagno...</td>\n",
       "      <td>2</td>\n",
       "      <td>-4.245203</td>\n",
       "      <td>-4.566029</td>\n",
       "      <td>6.791389</td>\n",
       "      <td>1.610115e-05</td>\n",
       "      <td>0.000012</td>\n",
       "      <td>0.999972</td>\n",
       "    </tr>\n",
       "    <tr>\n",
       "      <th>3598</th>\n",
       "      <td>3598</td>\n",
       "      <td>/data/TMED/approved_users_only/view_and_diagno...</td>\n",
       "      <td>2</td>\n",
       "      <td>-6.036833</td>\n",
       "      <td>-1.195459</td>\n",
       "      <td>5.006837</td>\n",
       "      <td>1.595546e-05</td>\n",
       "      <td>0.002021</td>\n",
       "      <td>0.997963</td>\n",
       "    </tr>\n",
       "    <tr>\n",
       "      <th>3599</th>\n",
       "      <td>3599</td>\n",
       "      <td>/data/TMED/approved_users_only/view_and_diagno...</td>\n",
       "      <td>2</td>\n",
       "      <td>-3.758008</td>\n",
       "      <td>-3.493092</td>\n",
       "      <td>5.433960</td>\n",
       "      <td>1.018303e-04</td>\n",
       "      <td>0.000133</td>\n",
       "      <td>0.999765</td>\n",
       "    </tr>\n",
       "    <tr>\n",
       "      <th>3600</th>\n",
       "      <td>3600</td>\n",
       "      <td>/data/TMED/approved_users_only/view_and_diagno...</td>\n",
       "      <td>2</td>\n",
       "      <td>-1.842666</td>\n",
       "      <td>-4.635487</td>\n",
       "      <td>5.148268</td>\n",
       "      <td>9.192894e-04</td>\n",
       "      <td>0.000056</td>\n",
       "      <td>0.999024</td>\n",
       "    </tr>\n",
       "    <tr>\n",
       "      <th>3601</th>\n",
       "      <td>3601</td>\n",
       "      <td>/data/TMED/approved_users_only/view_and_diagno...</td>\n",
       "      <td>2</td>\n",
       "      <td>-2.654269</td>\n",
       "      <td>-4.278631</td>\n",
       "      <td>5.324948</td>\n",
       "      <td>3.423671e-04</td>\n",
       "      <td>0.000067</td>\n",
       "      <td>0.999590</td>\n",
       "    </tr>\n",
       "  </tbody>\n",
       "</table>\n",
       "<p>3602 rows × 9 columns</p>\n",
       "</div>"
      ],
      "text/plain": [
       "      Unnamed: 0                                           filename  y  \\\n",
       "0              0  /data/TMED/approved_users_only/view_and_diagno...  2   \n",
       "1              1  /data/TMED/approved_users_only/view_and_diagno...  2   \n",
       "2              2  /data/TMED/approved_users_only/view_and_diagno...  2   \n",
       "3              3  /data/TMED/approved_users_only/view_and_diagno...  2   \n",
       "4              4  /data/TMED/approved_users_only/view_and_diagno...  2   \n",
       "...          ...                                                ... ..   \n",
       "3597        3597  /data/TMED/approved_users_only/view_and_diagno...  2   \n",
       "3598        3598  /data/TMED/approved_users_only/view_and_diagno...  2   \n",
       "3599        3599  /data/TMED/approved_users_only/view_and_diagno...  2   \n",
       "3600        3600  /data/TMED/approved_users_only/view_and_diagno...  2   \n",
       "3601        3601  /data/TMED/approved_users_only/view_and_diagno...  2   \n",
       "\n",
       "      outputs_0  outputs_1  outputs_2       preds_0   preds_1   preds_2  \n",
       "0     -4.357737   4.076598  -1.191372  2.161167e-04  0.994657  0.005127  \n",
       "1     -6.257405   7.044814  -2.533562  1.670663e-06  0.999929  0.000069  \n",
       "2     -8.174859   6.931254  -0.878789  2.749933e-07  0.999594  0.000405  \n",
       "3     -4.265769   1.858843   0.925698  1.568138e-03  0.716587  0.281844  \n",
       "4     -5.907566  -0.029820   3.759064  6.195760e-05  0.022119  0.977819  \n",
       "...         ...        ...        ...           ...       ...       ...  \n",
       "3597  -4.245203  -4.566029   6.791389  1.610115e-05  0.000012  0.999972  \n",
       "3598  -6.036833  -1.195459   5.006837  1.595546e-05  0.002021  0.997963  \n",
       "3599  -3.758008  -3.493092   5.433960  1.018303e-04  0.000133  0.999765  \n",
       "3600  -1.842666  -4.635487   5.148268  9.192894e-04  0.000056  0.999024  \n",
       "3601  -2.654269  -4.278631   5.324948  3.423671e-04  0.000067  0.999590  \n",
       "\n",
       "[3602 rows x 9 columns]"
      ]
     },
     "execution_count": 11,
     "metadata": {},
     "output_type": "execute_result"
    }
   ],
   "source": [
    "df_test[0]"
   ]
  },
  {
   "cell_type": "code",
   "execution_count": 12,
   "id": "a2fd395e",
   "metadata": {},
   "outputs": [
    {
     "data": {
      "text/html": [
       "<div>\n",
       "<style scoped>\n",
       "    .dataframe tbody tr th:only-of-type {\n",
       "        vertical-align: middle;\n",
       "    }\n",
       "\n",
       "    .dataframe tbody tr th {\n",
       "        vertical-align: top;\n",
       "    }\n",
       "\n",
       "    .dataframe thead th {\n",
       "        text-align: right;\n",
       "    }\n",
       "</style>\n",
       "<table border=\"1\" class=\"dataframe\">\n",
       "  <thead>\n",
       "    <tr style=\"text-align: right;\">\n",
       "      <th></th>\n",
       "      <th>Unnamed: 0</th>\n",
       "      <th>filename</th>\n",
       "      <th>y</th>\n",
       "      <th>outputs_0</th>\n",
       "      <th>outputs_1</th>\n",
       "      <th>outputs_2</th>\n",
       "      <th>outputs_3</th>\n",
       "      <th>outputs_4</th>\n",
       "      <th>preds_0</th>\n",
       "      <th>preds_1</th>\n",
       "      <th>preds_2</th>\n",
       "      <th>preds_3</th>\n",
       "      <th>preds_4</th>\n",
       "    </tr>\n",
       "  </thead>\n",
       "  <tbody>\n",
       "    <tr>\n",
       "      <th>0</th>\n",
       "      <td>0</td>\n",
       "      <td>/data/TMED/approved_users_only/view_and_diagno...</td>\n",
       "      <td>2</td>\n",
       "      <td>-4.474420</td>\n",
       "      <td>-3.293290</td>\n",
       "      <td>6.873021</td>\n",
       "      <td>-0.333446</td>\n",
       "      <td>1.616674</td>\n",
       "      <td>1.172919e-05</td>\n",
       "      <td>3.821436e-05</td>\n",
       "      <td>0.994030</td>\n",
       "      <td>0.000737</td>\n",
       "      <td>0.005183</td>\n",
       "    </tr>\n",
       "    <tr>\n",
       "      <th>1</th>\n",
       "      <td>1</td>\n",
       "      <td>/data/TMED/approved_users_only/view_and_diagno...</td>\n",
       "      <td>2</td>\n",
       "      <td>-3.309696</td>\n",
       "      <td>-2.830891</td>\n",
       "      <td>8.621917</td>\n",
       "      <td>-2.180509</td>\n",
       "      <td>-0.649588</td>\n",
       "      <td>6.578234e-06</td>\n",
       "      <td>1.061822e-05</td>\n",
       "      <td>0.999868</td>\n",
       "      <td>0.000020</td>\n",
       "      <td>0.000094</td>\n",
       "    </tr>\n",
       "    <tr>\n",
       "      <th>2</th>\n",
       "      <td>2</td>\n",
       "      <td>/data/TMED/approved_users_only/view_and_diagno...</td>\n",
       "      <td>1</td>\n",
       "      <td>2.004665</td>\n",
       "      <td>3.165979</td>\n",
       "      <td>-3.395484</td>\n",
       "      <td>-3.794709</td>\n",
       "      <td>1.437607</td>\n",
       "      <td>2.096935e-01</td>\n",
       "      <td>6.697879e-01</td>\n",
       "      <td>0.000947</td>\n",
       "      <td>0.000635</td>\n",
       "      <td>0.118936</td>\n",
       "    </tr>\n",
       "    <tr>\n",
       "      <th>3</th>\n",
       "      <td>3</td>\n",
       "      <td>/data/TMED/approved_users_only/view_and_diagno...</td>\n",
       "      <td>1</td>\n",
       "      <td>-0.827677</td>\n",
       "      <td>0.754046</td>\n",
       "      <td>0.219749</td>\n",
       "      <td>-3.265019</td>\n",
       "      <td>3.110798</td>\n",
       "      <td>1.662751e-02</td>\n",
       "      <td>8.086502e-02</td>\n",
       "      <td>0.047393</td>\n",
       "      <td>0.001453</td>\n",
       "      <td>0.853661</td>\n",
       "    </tr>\n",
       "    <tr>\n",
       "      <th>4</th>\n",
       "      <td>4</td>\n",
       "      <td>/data/TMED/approved_users_only/view_and_diagno...</td>\n",
       "      <td>1</td>\n",
       "      <td>0.029023</td>\n",
       "      <td>5.757953</td>\n",
       "      <td>-2.896789</td>\n",
       "      <td>-3.963840</td>\n",
       "      <td>0.544494</td>\n",
       "      <td>3.221790e-03</td>\n",
       "      <td>9.911514e-01</td>\n",
       "      <td>0.000173</td>\n",
       "      <td>0.000059</td>\n",
       "      <td>0.005395</td>\n",
       "    </tr>\n",
       "    <tr>\n",
       "      <th>...</th>\n",
       "      <td>...</td>\n",
       "      <td>...</td>\n",
       "      <td>...</td>\n",
       "      <td>...</td>\n",
       "      <td>...</td>\n",
       "      <td>...</td>\n",
       "      <td>...</td>\n",
       "      <td>...</td>\n",
       "      <td>...</td>\n",
       "      <td>...</td>\n",
       "      <td>...</td>\n",
       "      <td>...</td>\n",
       "      <td>...</td>\n",
       "    </tr>\n",
       "    <tr>\n",
       "      <th>3597</th>\n",
       "      <td>3597</td>\n",
       "      <td>/data/TMED/approved_users_only/view_and_diagno...</td>\n",
       "      <td>2</td>\n",
       "      <td>-4.372354</td>\n",
       "      <td>-6.356860</td>\n",
       "      <td>11.311464</td>\n",
       "      <td>-0.824119</td>\n",
       "      <td>0.978929</td>\n",
       "      <td>1.543789e-07</td>\n",
       "      <td>2.121915e-08</td>\n",
       "      <td>0.999962</td>\n",
       "      <td>0.000005</td>\n",
       "      <td>0.000033</td>\n",
       "    </tr>\n",
       "    <tr>\n",
       "      <th>3598</th>\n",
       "      <td>3598</td>\n",
       "      <td>/data/TMED/approved_users_only/view_and_diagno...</td>\n",
       "      <td>2</td>\n",
       "      <td>-5.248043</td>\n",
       "      <td>-3.611111</td>\n",
       "      <td>9.580708</td>\n",
       "      <td>0.401862</td>\n",
       "      <td>-0.767299</td>\n",
       "      <td>3.629908e-07</td>\n",
       "      <td>1.865546e-06</td>\n",
       "      <td>0.999863</td>\n",
       "      <td>0.000103</td>\n",
       "      <td>0.000032</td>\n",
       "    </tr>\n",
       "    <tr>\n",
       "      <th>3599</th>\n",
       "      <td>3599</td>\n",
       "      <td>/data/TMED/approved_users_only/view_and_diagno...</td>\n",
       "      <td>1</td>\n",
       "      <td>-3.988742</td>\n",
       "      <td>6.446634</td>\n",
       "      <td>-3.618449</td>\n",
       "      <td>-2.065079</td>\n",
       "      <td>3.083159</td>\n",
       "      <td>2.838446e-05</td>\n",
       "      <td>9.662883e-01</td>\n",
       "      <td>0.000041</td>\n",
       "      <td>0.000194</td>\n",
       "      <td>0.033448</td>\n",
       "    </tr>\n",
       "    <tr>\n",
       "      <th>3600</th>\n",
       "      <td>3600</td>\n",
       "      <td>/data/TMED/approved_users_only/view_and_diagno...</td>\n",
       "      <td>3</td>\n",
       "      <td>-3.226174</td>\n",
       "      <td>-5.905871</td>\n",
       "      <td>-2.053742</td>\n",
       "      <td>9.711393</td>\n",
       "      <td>2.308455</td>\n",
       "      <td>2.404458e-06</td>\n",
       "      <td>1.649070e-07</td>\n",
       "      <td>0.000008</td>\n",
       "      <td>0.999381</td>\n",
       "      <td>0.000609</td>\n",
       "    </tr>\n",
       "    <tr>\n",
       "      <th>3601</th>\n",
       "      <td>3601</td>\n",
       "      <td>/data/TMED/approved_users_only/view_and_diagno...</td>\n",
       "      <td>1</td>\n",
       "      <td>-4.710282</td>\n",
       "      <td>7.890679</td>\n",
       "      <td>-4.906092</td>\n",
       "      <td>-0.631628</td>\n",
       "      <td>2.581307</td>\n",
       "      <td>3.351514e-06</td>\n",
       "      <td>9.948762e-01</td>\n",
       "      <td>0.000003</td>\n",
       "      <td>0.000198</td>\n",
       "      <td>0.004920</td>\n",
       "    </tr>\n",
       "  </tbody>\n",
       "</table>\n",
       "<p>3602 rows × 13 columns</p>\n",
       "</div>"
      ],
      "text/plain": [
       "      Unnamed: 0                                           filename  y  \\\n",
       "0              0  /data/TMED/approved_users_only/view_and_diagno...  2   \n",
       "1              1  /data/TMED/approved_users_only/view_and_diagno...  2   \n",
       "2              2  /data/TMED/approved_users_only/view_and_diagno...  1   \n",
       "3              3  /data/TMED/approved_users_only/view_and_diagno...  1   \n",
       "4              4  /data/TMED/approved_users_only/view_and_diagno...  1   \n",
       "...          ...                                                ... ..   \n",
       "3597        3597  /data/TMED/approved_users_only/view_and_diagno...  2   \n",
       "3598        3598  /data/TMED/approved_users_only/view_and_diagno...  2   \n",
       "3599        3599  /data/TMED/approved_users_only/view_and_diagno...  1   \n",
       "3600        3600  /data/TMED/approved_users_only/view_and_diagno...  3   \n",
       "3601        3601  /data/TMED/approved_users_only/view_and_diagno...  1   \n",
       "\n",
       "      outputs_0  outputs_1  outputs_2  outputs_3  outputs_4       preds_0  \\\n",
       "0     -4.474420  -3.293290   6.873021  -0.333446   1.616674  1.172919e-05   \n",
       "1     -3.309696  -2.830891   8.621917  -2.180509  -0.649588  6.578234e-06   \n",
       "2      2.004665   3.165979  -3.395484  -3.794709   1.437607  2.096935e-01   \n",
       "3     -0.827677   0.754046   0.219749  -3.265019   3.110798  1.662751e-02   \n",
       "4      0.029023   5.757953  -2.896789  -3.963840   0.544494  3.221790e-03   \n",
       "...         ...        ...        ...        ...        ...           ...   \n",
       "3597  -4.372354  -6.356860  11.311464  -0.824119   0.978929  1.543789e-07   \n",
       "3598  -5.248043  -3.611111   9.580708   0.401862  -0.767299  3.629908e-07   \n",
       "3599  -3.988742   6.446634  -3.618449  -2.065079   3.083159  2.838446e-05   \n",
       "3600  -3.226174  -5.905871  -2.053742   9.711393   2.308455  2.404458e-06   \n",
       "3601  -4.710282   7.890679  -4.906092  -0.631628   2.581307  3.351514e-06   \n",
       "\n",
       "           preds_1   preds_2   preds_3   preds_4  \n",
       "0     3.821436e-05  0.994030  0.000737  0.005183  \n",
       "1     1.061822e-05  0.999868  0.000020  0.000094  \n",
       "2     6.697879e-01  0.000947  0.000635  0.118936  \n",
       "3     8.086502e-02  0.047393  0.001453  0.853661  \n",
       "4     9.911514e-01  0.000173  0.000059  0.005395  \n",
       "...            ...       ...       ...       ...  \n",
       "3597  2.121915e-08  0.999962  0.000005  0.000033  \n",
       "3598  1.865546e-06  0.999863  0.000103  0.000032  \n",
       "3599  9.662883e-01  0.000041  0.000194  0.033448  \n",
       "3600  1.649070e-07  0.000008  0.999381  0.000609  \n",
       "3601  9.948762e-01  0.000003  0.000198  0.004920  \n",
       "\n",
       "[3602 rows x 13 columns]"
      ]
     },
     "execution_count": 12,
     "metadata": {},
     "output_type": "execute_result"
    }
   ],
   "source": [
    "df_view_val"
   ]
  },
  {
   "cell_type": "markdown",
   "id": "81ba5d28",
   "metadata": {},
   "source": [
    "### Perform image-level analysis on PLAX and PSAX images only"
   ]
  },
  {
   "cell_type": "code",
   "execution_count": 13,
   "id": "532a535e",
   "metadata": {},
   "outputs": [],
   "source": [
    "# perform image-level analysis on PLAX and PSAX images only\n",
    "def filter_preds_by_view(df, df_view):\n",
    "    view_labels = df_view['y'].to_numpy()\n",
    "    key_view_mask = (view_labels == 2) | (view_labels == 3)\n",
    "    \n",
    "    return df[key_view_mask]\n",
    "\n",
    "#filter_preds_by_view(df_view_val, df_view_val)['y'].value_counts()\n",
    "df_val_filtered = [filter_preds_by_view(x, df_view_val).reset_index() for x in df_val]\n",
    "df_test_filtered = [filter_preds_by_view(x, df_view_val).reset_index() for x in df_val]"
   ]
  },
  {
   "cell_type": "code",
   "execution_count": 14,
   "id": "dafef798",
   "metadata": {},
   "outputs": [
    {
     "data": {
      "text/html": [
       "<div>\n",
       "<style scoped>\n",
       "    .dataframe tbody tr th:only-of-type {\n",
       "        vertical-align: middle;\n",
       "    }\n",
       "\n",
       "    .dataframe tbody tr th {\n",
       "        vertical-align: top;\n",
       "    }\n",
       "\n",
       "    .dataframe thead th {\n",
       "        text-align: right;\n",
       "    }\n",
       "</style>\n",
       "<table border=\"1\" class=\"dataframe\">\n",
       "  <thead>\n",
       "    <tr style=\"text-align: right;\">\n",
       "      <th></th>\n",
       "      <th>index</th>\n",
       "      <th>Unnamed: 0</th>\n",
       "      <th>filename</th>\n",
       "      <th>y</th>\n",
       "      <th>outputs_0</th>\n",
       "      <th>outputs_1</th>\n",
       "      <th>outputs_2</th>\n",
       "      <th>preds_0</th>\n",
       "      <th>preds_1</th>\n",
       "      <th>preds_2</th>\n",
       "    </tr>\n",
       "  </thead>\n",
       "  <tbody>\n",
       "    <tr>\n",
       "      <th>0</th>\n",
       "      <td>0</td>\n",
       "      <td>0</td>\n",
       "      <td>/data/TMED/approved_users_only/view_and_diagno...</td>\n",
       "      <td>2</td>\n",
       "      <td>1.664437</td>\n",
       "      <td>-6.069416</td>\n",
       "      <td>3.576227</td>\n",
       "      <td>0.128773</td>\n",
       "      <td>0.000056</td>\n",
       "      <td>0.871171</td>\n",
       "    </tr>\n",
       "    <tr>\n",
       "      <th>1</th>\n",
       "      <td>1</td>\n",
       "      <td>1</td>\n",
       "      <td>/data/TMED/approved_users_only/view_and_diagno...</td>\n",
       "      <td>2</td>\n",
       "      <td>-7.693852</td>\n",
       "      <td>2.053133</td>\n",
       "      <td>3.239326</td>\n",
       "      <td>0.000014</td>\n",
       "      <td>0.233937</td>\n",
       "      <td>0.766049</td>\n",
       "    </tr>\n",
       "    <tr>\n",
       "      <th>2</th>\n",
       "      <td>19</td>\n",
       "      <td>19</td>\n",
       "      <td>/data/TMED/approved_users_only/view_and_diagno...</td>\n",
       "      <td>2</td>\n",
       "      <td>-1.969402</td>\n",
       "      <td>-1.616029</td>\n",
       "      <td>2.345114</td>\n",
       "      <td>0.012953</td>\n",
       "      <td>0.018444</td>\n",
       "      <td>0.968603</td>\n",
       "    </tr>\n",
       "    <tr>\n",
       "      <th>3</th>\n",
       "      <td>20</td>\n",
       "      <td>20</td>\n",
       "      <td>/data/TMED/approved_users_only/view_and_diagno...</td>\n",
       "      <td>2</td>\n",
       "      <td>-6.547378</td>\n",
       "      <td>-1.023649</td>\n",
       "      <td>5.359385</td>\n",
       "      <td>0.000007</td>\n",
       "      <td>0.001687</td>\n",
       "      <td>0.998306</td>\n",
       "    </tr>\n",
       "    <tr>\n",
       "      <th>4</th>\n",
       "      <td>21</td>\n",
       "      <td>21</td>\n",
       "      <td>/data/TMED/approved_users_only/view_and_diagno...</td>\n",
       "      <td>2</td>\n",
       "      <td>-4.119503</td>\n",
       "      <td>-1.974785</td>\n",
       "      <td>4.353608</td>\n",
       "      <td>0.000209</td>\n",
       "      <td>0.001781</td>\n",
       "      <td>0.998010</td>\n",
       "    </tr>\n",
       "    <tr>\n",
       "      <th>...</th>\n",
       "      <td>...</td>\n",
       "      <td>...</td>\n",
       "      <td>...</td>\n",
       "      <td>...</td>\n",
       "      <td>...</td>\n",
       "      <td>...</td>\n",
       "      <td>...</td>\n",
       "      <td>...</td>\n",
       "      <td>...</td>\n",
       "      <td>...</td>\n",
       "    </tr>\n",
       "    <tr>\n",
       "      <th>1305</th>\n",
       "      <td>3595</td>\n",
       "      <td>3595</td>\n",
       "      <td>/data/TMED/approved_users_only/view_and_diagno...</td>\n",
       "      <td>1</td>\n",
       "      <td>-3.857192</td>\n",
       "      <td>-0.454538</td>\n",
       "      <td>2.689405</td>\n",
       "      <td>0.001374</td>\n",
       "      <td>0.041274</td>\n",
       "      <td>0.957352</td>\n",
       "    </tr>\n",
       "    <tr>\n",
       "      <th>1306</th>\n",
       "      <td>3596</td>\n",
       "      <td>3596</td>\n",
       "      <td>/data/TMED/approved_users_only/view_and_diagno...</td>\n",
       "      <td>1</td>\n",
       "      <td>0.381024</td>\n",
       "      <td>-5.036017</td>\n",
       "      <td>3.639841</td>\n",
       "      <td>0.037005</td>\n",
       "      <td>0.000164</td>\n",
       "      <td>0.962830</td>\n",
       "    </tr>\n",
       "    <tr>\n",
       "      <th>1307</th>\n",
       "      <td>3597</td>\n",
       "      <td>3597</td>\n",
       "      <td>/data/TMED/approved_users_only/view_and_diagno...</td>\n",
       "      <td>1</td>\n",
       "      <td>-0.595184</td>\n",
       "      <td>-3.493111</td>\n",
       "      <td>2.974856</td>\n",
       "      <td>0.027342</td>\n",
       "      <td>0.001508</td>\n",
       "      <td>0.971150</td>\n",
       "    </tr>\n",
       "    <tr>\n",
       "      <th>1308</th>\n",
       "      <td>3598</td>\n",
       "      <td>3598</td>\n",
       "      <td>/data/TMED/approved_users_only/view_and_diagno...</td>\n",
       "      <td>1</td>\n",
       "      <td>-2.332581</td>\n",
       "      <td>-2.781833</td>\n",
       "      <td>3.652832</td>\n",
       "      <td>0.002505</td>\n",
       "      <td>0.001598</td>\n",
       "      <td>0.995897</td>\n",
       "    </tr>\n",
       "    <tr>\n",
       "      <th>1309</th>\n",
       "      <td>3600</td>\n",
       "      <td>3600</td>\n",
       "      <td>/data/TMED/approved_users_only/view_and_diagno...</td>\n",
       "      <td>1</td>\n",
       "      <td>-7.233850</td>\n",
       "      <td>1.786338</td>\n",
       "      <td>3.092496</td>\n",
       "      <td>0.000026</td>\n",
       "      <td>0.213125</td>\n",
       "      <td>0.786849</td>\n",
       "    </tr>\n",
       "  </tbody>\n",
       "</table>\n",
       "<p>1310 rows × 10 columns</p>\n",
       "</div>"
      ],
      "text/plain": [
       "      index  Unnamed: 0                                           filename  y  \\\n",
       "0         0           0  /data/TMED/approved_users_only/view_and_diagno...  2   \n",
       "1         1           1  /data/TMED/approved_users_only/view_and_diagno...  2   \n",
       "2        19          19  /data/TMED/approved_users_only/view_and_diagno...  2   \n",
       "3        20          20  /data/TMED/approved_users_only/view_and_diagno...  2   \n",
       "4        21          21  /data/TMED/approved_users_only/view_and_diagno...  2   \n",
       "...     ...         ...                                                ... ..   \n",
       "1305   3595        3595  /data/TMED/approved_users_only/view_and_diagno...  1   \n",
       "1306   3596        3596  /data/TMED/approved_users_only/view_and_diagno...  1   \n",
       "1307   3597        3597  /data/TMED/approved_users_only/view_and_diagno...  1   \n",
       "1308   3598        3598  /data/TMED/approved_users_only/view_and_diagno...  1   \n",
       "1309   3600        3600  /data/TMED/approved_users_only/view_and_diagno...  1   \n",
       "\n",
       "      outputs_0  outputs_1  outputs_2   preds_0   preds_1   preds_2  \n",
       "0      1.664437  -6.069416   3.576227  0.128773  0.000056  0.871171  \n",
       "1     -7.693852   2.053133   3.239326  0.000014  0.233937  0.766049  \n",
       "2     -1.969402  -1.616029   2.345114  0.012953  0.018444  0.968603  \n",
       "3     -6.547378  -1.023649   5.359385  0.000007  0.001687  0.998306  \n",
       "4     -4.119503  -1.974785   4.353608  0.000209  0.001781  0.998010  \n",
       "...         ...        ...        ...       ...       ...       ...  \n",
       "1305  -3.857192  -0.454538   2.689405  0.001374  0.041274  0.957352  \n",
       "1306   0.381024  -5.036017   3.639841  0.037005  0.000164  0.962830  \n",
       "1307  -0.595184  -3.493111   2.974856  0.027342  0.001508  0.971150  \n",
       "1308  -2.332581  -2.781833   3.652832  0.002505  0.001598  0.995897  \n",
       "1309  -7.233850   1.786338   3.092496  0.000026  0.213125  0.786849  \n",
       "\n",
       "[1310 rows x 10 columns]"
      ]
     },
     "execution_count": 14,
     "metadata": {},
     "output_type": "execute_result"
    }
   ],
   "source": [
    "df_test_filtered[0]"
   ]
  },
  {
   "cell_type": "code",
   "execution_count": 15,
   "id": "306dc8d3",
   "metadata": {},
   "outputs": [
    {
     "name": "stdout",
     "output_type": "stream",
     "text": [
      "Method: Default, balanced top-1 acc = 0.6095376968242244\n",
      "[[166  37  83]\n",
      " [ 18  94  75]\n",
      " [ 49 164 624]]\n",
      "Method: LE=1, balanced top-1 acc = 0.6608308059920963\n",
      "[[207  33  46]\n",
      " [ 22 102  63]\n",
      " [103 137 597]]\n"
     ]
    }
   ],
   "source": [
    "# compute the top-1 balanced accuracy\n",
    "for i in range(len(methods)):\n",
    "    output_cols = [x for x in df_test_filtered[i].columns if 'preds' in x]\n",
    "    test_gt = df_test_filtered[i]['y']#test_y_study_level[i]\n",
    "    test_preds = df_test_filtered[i][output_cols].to_numpy()\n",
    "    test_pred = np.argmax(test_preds, axis=1)\n",
    "    \n",
    "    test_acc = balanced_accuracy_score(test_gt, test_pred)\n",
    "    print(f\"Method: {methods[i]}, balanced top-1 acc = {test_acc}\")\n",
    "    print(confusion_matrix(test_gt, test_pred))"
   ]
  },
  {
   "cell_type": "code",
   "execution_count": 19,
   "id": "6995630d",
   "metadata": {},
   "outputs": [
    {
     "name": "stdout",
     "output_type": "stream",
     "text": [
      "Default\n",
      "cov: 0.9038167938931297, 0.017136682009282877\n",
      "bcov: 0.9031116907812966, 0.017750456332267583\n",
      "card: 1.9931297709923665, 0.08405450239574862\n",
      "LE=1\n",
      "cov: 0.9015267175572519, 0.01608630067484598\n",
      "bcov: 0.903299635283588, 0.019647489503414856\n",
      "card: 1.9015267175572519, 0.07247259096214825\n"
     ]
    }
   ],
   "source": [
    "# Conformal prediction using LABEL\n",
    "confidences, pred_classes, css, = [], [], []\n",
    "\n",
    "for i in range(len(methods)):\n",
    "    print(methods[i])\n",
    "    y_test = df_test_filtered[i]['y'].to_numpy()\n",
    "    y_val = df_val_filtered[i]['y'].to_numpy()\n",
    "    \n",
    "    output_cols = [x for x in df_test_filtered[i].columns if 'preds' in x]\n",
    "    val_sm = df_val_filtered[i][output_cols].to_numpy()\n",
    "    test_sm = df_test_filtered[i][output_cols].to_numpy()\n",
    "    \n",
    "    # evaluate the median of many conformal prediction splits\n",
    "    cov, bcov, card = develop_coverage_distribution(y_test, test_sm, n_splits=100, test_size=0.5, alpha=0.1)\n",
    "    \n",
    "    print(f\"cov: {np.median(cov)}, {np.std(cov)}\")\n",
    "    print(f\"bcov: {np.median(bcov)}, {np.std(bcov)}\")\n",
    "    print(f\"card: {np.median(card)}, {np.std(card)}\")\n",
    "    \n",
    "    # record down the conformal prediction sets from one split\n",
    "\n",
    "    alpha = 0.1\n",
    "    qhat = LABEL_fit(y_val, val_sm, alpha, verbose=False)\n",
    "    cs = LABEL_inference(test_sm,  qhat)\n",
    "\n",
    "#     cov = coverage_test(y_test, cs)\n",
    "#     bcov = balanced_coverage_test(y_test, cs)\n",
    "#     card = cardinality_test(cs)\n",
    "#     if dataset != 'CIFAR':\n",
    "#         print(ordinality_test_arr(cs))\n",
    "#    print(f\"Method {methods[i]} alpha={alpha}: cov={cov}, bcov={bcov}, card={card}, efficiency={bcov/card}\")\n",
    "    \n",
    "    confidences.append(test_sm)\n",
    "    pred_classes.append(np.argmax(test_sm, axis=1))\n",
    "    css.append(cs)"
   ]
  },
  {
   "cell_type": "code",
   "execution_count": 20,
   "id": "8e0c8b4d",
   "metadata": {},
   "outputs": [
    {
     "name": "stdout",
     "output_type": "stream",
     "text": [
      "Name: /data/TMED/approved_users_only/view_and_diagnosis_labeled_set/labeled/3532s1_0.png, GT: significant AS\n",
      "Method Default, classes = ['no AS' 'significant AS'], confidences = [0.12877255 0.87117108]\n",
      "Method LE=1, classes = ['no AS' 'early AS' 'significant AS'], confidences = [0.26163059 0.30229375 0.43607566]\n"
     ]
    }
   ],
   "source": [
    "# show some examples for inference\n",
    "def show_inference_data(index, verbose=False):\n",
    "    name = df_test_filtered[0]['filename'][index]\n",
    "    label = df_test_filtered[0]['y'][index]\n",
    "    class_mapping = np.array(['no AS', 'early AS', 'significant AS'])\n",
    "    print(f\"Name: {name}, GT: {class_mapping[label]}\")\n",
    "    for i in range(2):\n",
    "        conformal_set = css[i][index]\n",
    "        indices = np.where(conformal_set)[0]\n",
    "        local_conf = confidences[i][index][indices]\n",
    "        if verbose:\n",
    "            print(f\"Method {methods[i]}, classes = {class_mapping[indices]}, confidences = {local_conf}\")\n",
    "    return\n",
    "\n",
    "show_inference_data(0, True)\n"
   ]
  },
  {
   "cell_type": "code",
   "execution_count": 21,
   "id": "6bc0b049",
   "metadata": {},
   "outputs": [
    {
     "name": "stdout",
     "output_type": "stream",
     "text": [
      "[   9   10   14   18   21   49   50   92   93   94   95   96   97  117\n",
      "  118  135  136  137  138  139  140  141  143  151  156  158  159  160\n",
      "  161  162  163  164  165  169  171  173  174  177  181  187  193  202\n",
      "  207  213  218  219  220  221  223  227  250  264  275  283  284  285\n",
      "  286  303  306  307  308  311  312  313  314  315  317  319  322  331\n",
      "  335  363  366  373  399  414  415  416  417  422  427  432  435  436\n",
      "  438  439  441  443  444  445  446  448  454  475  476  478  500  502\n",
      "  508  509  510  514  533  565  566  567  578  608  621  623  624  675\n",
      "  676  677  680  681  682  691  694  713  714  717  734  737  739  764\n",
      "  772  780  788  794  808  809  810  811  812  813  816  817  825  829\n",
      "  841  850  852  853  857  858  860  861  864  865  881  883  884  890\n",
      "  891  894  897  898  901  912  914  920  922  923  924  926  927  928\n",
      "  933  935  936  937  946  948  950  953  956  965  970  973  993 1002\n",
      " 1003 1006 1021 1023 1044 1047 1048 1050 1052 1055 1057 1058 1059 1061\n",
      " 1075 1083 1100 1104 1105 1106 1108 1109 1121 1138 1139 1140 1141 1143\n",
      " 1144 1146 1147 1149 1150 1151 1152 1153 1172 1174 1188 1198 1199 1203\n",
      " 1204 1205 1206 1208 1209 1210 1212 1213 1214 1215 1216 1217 1218 1219\n",
      " 1220 1221 1222 1223 1224 1225 1226 1228 1229 1231 1233 1234 1239 1240\n",
      " 1241 1246 1249 1252 1253 1254 1255 1264 1266 1270 1271 1272 1274 1276\n",
      " 1284 1285 1286 1288 1301 1304 1305 1306 1307 1308 1309]\n"
     ]
    }
   ],
   "source": [
    "N = len(pred_classes[0])\n",
    "ce_pred = pred_classes[0]\n",
    "rt_pred = pred_classes[1]\n",
    "gt = df_test_filtered[0]['y'].to_numpy(dtype=int)\n",
    "cond = (gt != rt_pred) & (gt != ce_pred)\n",
    "\n",
    "selected = np.where(cond)[0]\n",
    "# # sort where by the discrepancy between predictions for the right class\n",
    "#confidence_differences = confidences[1][range(N), gt] - confidences[0][range(N), gt]\n",
    "#confidence_differences = confidence_differences[selected]\n",
    "#conf1 = confidences[1][range(N), gt]\n",
    "#conf1 = conf1[selected]\n",
    "#selected = selected[np.argsort(conf1)]\n",
    "print(selected)"
   ]
  },
  {
   "cell_type": "code",
   "execution_count": 22,
   "id": "806116d0",
   "metadata": {
    "scrolled": true
   },
   "outputs": [
    {
     "data": {
      "image/png": "[encoded data removed]",
      "text/plain": [
       "<PIL.PngImagePlugin.PngImageFile image mode=L size=112x112 at 0x7F7BE6820D90>"
      ]
     },
     "metadata": {},
     "output_type": "display_data"
    },
    {
     "name": "stdout",
     "output_type": "stream",
     "text": [
      "Name: /data/TMED/approved_users_only/view_and_diagnosis_labeled_set/labeled/3532s1_26.png, GT: significant AS\n",
      "Method Default, classes = ['early AS' 'significant AS'], confidences = [0.61627395 0.3837257 ]\n",
      "Method LE=1, classes = ['early AS' 'significant AS'], confidences = [0.59306559 0.32660257]\n"
     ]
    },
    {
     "data": {
      "image/png": "[encoded data removed]",
      "text/plain": [
       "<PIL.PngImagePlugin.PngImageFile image mode=L size=112x112 at 0x7F7BE670DA90>"
      ]
     },
     "metadata": {},
     "output_type": "display_data"
    },
    {
     "name": "stdout",
     "output_type": "stream",
     "text": [
      "Name: /data/TMED/approved_users_only/view_and_diagnosis_labeled_set/labeled/1991s1_4.png, GT: significant AS\n",
      "Method Default, classes = ['no AS' 'significant AS'], confidences = [0.97224373 0.02770848]\n",
      "Method LE=1, classes = ['no AS' 'significant AS'], confidences = [0.75510873 0.19379494]\n"
     ]
    },
    {
     "data": {
      "image/png": "[encoded data removed]",
      "text/plain": [
       "<PIL.PngImagePlugin.PngImageFile image mode=L size=112x112 at 0x7F7BE6820D90>"
      ]
     },
     "metadata": {},
     "output_type": "display_data"
    },
    {
     "name": "stdout",
     "output_type": "stream",
     "text": [
      "Name: /data/TMED/approved_users_only/view_and_diagnosis_labeled_set/labeled/1991s1_30.png, GT: significant AS\n",
      "Method Default, classes = ['no AS' 'significant AS'], confidences = [0.93758709 0.06071037]\n",
      "Method LE=1, classes = ['no AS' 'significant AS'], confidences = [0.74341885 0.20070662]\n"
     ]
    },
    {
     "data": {
      "image/png": "[encoded data removed]",
      "text/plain": [
       "<PIL.PngImagePlugin.PngImageFile image mode=L size=112x112 at 0x7F7BE6820B90>"
      ]
     },
     "metadata": {},
     "output_type": "display_data"
    },
    {
     "name": "stdout",
     "output_type": "stream",
     "text": [
      "Name: /data/TMED/approved_users_only/view_and_diagnosis_labeled_set/labeled/1991s1_39.png, GT: significant AS\n",
      "Method Default, classes = ['no AS' 'early AS' 'significant AS'], confidences = [0.6129902  0.10564136 0.28136843]\n",
      "Method LE=1, classes = ['no AS' 'significant AS'], confidences = [0.53660438 0.33630822]\n"
     ]
    },
    {
     "data": {
      "image/png": "[encoded data removed]",
      "text/plain": [
       "<PIL.PngImagePlugin.PngImageFile image mode=L size=112x112 at 0x7F7BE67B0790>"
      ]
     },
     "metadata": {},
     "output_type": "display_data"
    },
    {
     "name": "stdout",
     "output_type": "stream",
     "text": [
      "Name: /data/TMED/approved_users_only/view_and_diagnosis_labeled_set/labeled/1991s1_42.png, GT: significant AS\n",
      "Method Default, classes = ['early AS' 'significant AS'], confidences = [0.98020255 0.01402008]\n",
      "Method LE=1, classes = ['early AS'], confidences = [0.70220759]\n"
     ]
    },
    {
     "data": {
      "image/png": "[encoded data removed]",
      "text/plain": [
       "<PIL.PngImagePlugin.PngImageFile image mode=L size=112x112 at 0x7F7C6383CC50>"
      ]
     },
     "metadata": {},
     "output_type": "display_data"
    },
    {
     "name": "stdout",
     "output_type": "stream",
     "text": [
      "Name: /data/TMED/approved_users_only/view_and_diagnosis_labeled_set/labeled/3181s1_17.png, GT: significant AS\n",
      "Method Default, classes = ['no AS' 'early AS' 'significant AS'], confidences = [0.01737711 0.8637486  0.11887429]\n",
      "Method LE=1, classes = ['no AS' 'early AS' 'significant AS'], confidences = [0.39192993 0.35263025 0.25543983]\n"
     ]
    },
    {
     "data": {
      "image/png": "[encoded data removed]",
      "text/plain": [
       "<PIL.PngImagePlugin.PngImageFile image mode=L size=112x112 at 0x7F7BE66FEBD0>"
      ]
     },
     "metadata": {},
     "output_type": "display_data"
    },
    {
     "name": "stdout",
     "output_type": "stream",
     "text": [
      "Name: /data/TMED/approved_users_only/view_and_diagnosis_labeled_set/labeled/3181s1_18.png, GT: significant AS\n",
      "Method Default, classes = ['early AS' 'significant AS'], confidences = [0.6830629  0.31448065]\n",
      "Method LE=1, classes = ['early AS' 'significant AS'], confidences = [0.49283923 0.42639024]\n"
     ]
    },
    {
     "data": {
      "image/png": "[encoded data removed]",
      "text/plain": [
       "<PIL.PngImagePlugin.PngImageFile image mode=L size=112x112 at 0x7F7BE6820D10>"
      ]
     },
     "metadata": {},
     "output_type": "display_data"
    },
    {
     "name": "stdout",
     "output_type": "stream",
     "text": [
      "Name: /data/TMED/approved_users_only/view_and_diagnosis_labeled_set/labeled/2142s1_1.png, GT: no AS\n",
      "Method Default, classes = ['early AS' 'significant AS'], confidences = [0.88219566 0.11780393]\n",
      "Method LE=1, classes = ['early AS' 'significant AS'], confidences = [0.63272989 0.28883002]\n"
     ]
    },
    {
     "data": {
      "image/png": "[encoded data removed]",
      "text/plain": [
       "<PIL.PngImagePlugin.PngImageFile image mode=L size=112x112 at 0x7F7BE67B0790>"
      ]
     },
     "metadata": {},
     "output_type": "display_data"
    },
    {
     "name": "stdout",
     "output_type": "stream",
     "text": [
      "Name: /data/TMED/approved_users_only/view_and_diagnosis_labeled_set/labeled/2142s1_2.png, GT: no AS\n",
      "Method Default, classes = ['significant AS'], confidences = [0.9952309]\n",
      "Method LE=1, classes = ['early AS' 'significant AS'], confidences = [0.49297172 0.4559143 ]\n"
     ]
    },
    {
     "data": {
      "image/png": "[encoded data removed]",
      "text/plain": [
       "<PIL.PngImagePlugin.PngImageFile image mode=L size=112x112 at 0x7F7BE6820B90>"
      ]
     },
     "metadata": {},
     "output_type": "display_data"
    },
    {
     "name": "stdout",
     "output_type": "stream",
     "text": [
      "Name: /data/TMED/approved_users_only/view_and_diagnosis_labeled_set/labeled/2142s1_3.png, GT: no AS\n",
      "Method Default, classes = ['early AS' 'significant AS'], confidences = [0.28511299 0.71367627]\n",
      "Method LE=1, classes = ['early AS' 'significant AS'], confidences = [0.60109918 0.22512826]\n"
     ]
    },
    {
     "data": {
      "image/png": "[encoded data removed]",
      "text/plain": [
       "<PIL.PngImagePlugin.PngImageFile image mode=L size=112x112 at 0x7F7BE66FEC10>"
      ]
     },
     "metadata": {},
     "output_type": "display_data"
    },
    {
     "name": "stdout",
     "output_type": "stream",
     "text": [
      "Name: /data/TMED/approved_users_only/view_and_diagnosis_labeled_set/labeled/2142s1_8.png, GT: no AS\n",
      "Method Default, classes = ['early AS'], confidences = [0.99557518]\n",
      "Method LE=1, classes = ['early AS' 'significant AS'], confidences = [0.63290647 0.32374316]\n"
     ]
    },
    {
     "data": {
      "image/png": "[encoded data removed]",
      "text/plain": [
       "<PIL.PngImagePlugin.PngImageFile image mode=L size=112x112 at 0x7F7BE67B00D0>"
      ]
     },
     "metadata": {},
     "output_type": "display_data"
    },
    {
     "name": "stdout",
     "output_type": "stream",
     "text": [
      "Name: /data/TMED/approved_users_only/view_and_diagnosis_labeled_set/labeled/2142s1_9.png, GT: no AS\n",
      "Method Default, classes = ['early AS' 'significant AS'], confidences = [0.09764586 0.90138768]\n",
      "Method LE=1, classes = ['significant AS'], confidences = [0.72529652]\n"
     ]
    },
    {
     "data": {
      "image/png": "[encoded data removed]",
      "text/plain": [
       "<PIL.PngImagePlugin.PngImageFile image mode=L size=112x112 at 0x7F7BE6820B90>"
      ]
     },
     "metadata": {},
     "output_type": "display_data"
    },
    {
     "name": "stdout",
     "output_type": "stream",
     "text": [
      "Name: /data/TMED/approved_users_only/view_and_diagnosis_labeled_set/labeled/2142s1_10.png, GT: no AS\n",
      "Method Default, classes = ['no AS' 'early AS' 'significant AS'], confidences = [0.09928357 0.34336225 0.55735418]\n",
      "Method LE=1, classes = ['significant AS'], confidences = [0.85612729]\n"
     ]
    },
    {
     "data": {
      "image/png": "[encoded data removed]",
      "text/plain": [
       "<PIL.PngImagePlugin.PngImageFile image mode=L size=112x112 at 0x7F7BE6820850>"
      ]
     },
     "metadata": {},
     "output_type": "display_data"
    },
    {
     "name": "stdout",
     "output_type": "stream",
     "text": [
      "Name: /data/TMED/approved_users_only/view_and_diagnosis_labeled_set/labeled/161s2_4.png, GT: no AS\n",
      "Method Default, classes = ['no AS' 'significant AS'], confidences = [0.02290239 0.97708767]\n",
      "Method LE=1, classes = ['no AS' 'significant AS'], confidences = [0.20983962 0.75647562]\n"
     ]
    },
    {
     "data": {
      "image/png": "[encoded data removed]",
      "text/plain": [
       "<PIL.PngImagePlugin.PngImageFile image mode=L size=112x112 at 0x7F7BE66FEC10>"
      ]
     },
     "metadata": {},
     "output_type": "display_data"
    },
    {
     "name": "stdout",
     "output_type": "stream",
     "text": [
      "Name: /data/TMED/approved_users_only/view_and_diagnosis_labeled_set/labeled/161s2_5.png, GT: no AS\n",
      "Method Default, classes = ['no AS' 'significant AS'], confidences = [0.14073307 0.85926348]\n",
      "Method LE=1, classes = ['no AS' 'significant AS'], confidences = [0.4225739  0.56816933]\n"
     ]
    },
    {
     "data": {
      "image/png": "[encoded data removed]",
      "text/plain": [
       "<PIL.PngImagePlugin.PngImageFile image mode=L size=112x112 at 0x7F7BE6820D90>"
      ]
     },
     "metadata": {},
     "output_type": "display_data"
    },
    {
     "name": "stdout",
     "output_type": "stream",
     "text": [
      "Name: /data/TMED/approved_users_only/view_and_diagnosis_labeled_set/labeled/1777s1_11.png, GT: early AS\n",
      "Method Default, classes = ['early AS' 'significant AS'], confidences = [0.04849636 0.95146671]\n",
      "Method LE=1, classes = ['no AS' 'early AS'], confidences = [0.68597842 0.21409992]\n"
     ]
    },
    {
     "data": {
      "image/png": "[encoded data removed]",
      "text/plain": [
       "<PIL.PngImagePlugin.PngImageFile image mode=L size=112x112 at 0x7F7BE66FEC10>"
      ]
     },
     "metadata": {},
     "output_type": "display_data"
    },
    {
     "name": "stdout",
     "output_type": "stream",
     "text": [
      "Name: /data/TMED/approved_users_only/view_and_diagnosis_labeled_set/labeled/1777s1_12.png, GT: early AS\n",
      "Method Default, classes = ['significant AS'], confidences = [0.99770014]\n",
      "Method LE=1, classes = ['significant AS'], confidences = [0.83092467]\n"
     ]
    },
    {
     "data": {
      "image/png": "[encoded data removed]",
      "text/plain": [
       "<PIL.PngImagePlugin.PngImageFile image mode=L size=112x112 at 0x7F7BE670DB10>"
      ]
     },
     "metadata": {},
     "output_type": "display_data"
    },
    {
     "name": "stdout",
     "output_type": "stream",
     "text": [
      "Name: /data/TMED/approved_users_only/view_and_diagnosis_labeled_set/labeled/1777s1_13.png, GT: early AS\n",
      "Method Default, classes = ['significant AS'], confidences = [0.99685499]\n",
      "Method LE=1, classes = ['no AS' 'significant AS'], confidences = [0.50249461 0.40721303]\n"
     ]
    },
    {
     "data": {
      "image/png": "[encoded data removed]",
      "text/plain": [
       "<PIL.PngImagePlugin.PngImageFile image mode=L size=112x112 at 0x7F7BE670DF50>"
      ]
     },
     "metadata": {},
     "output_type": "display_data"
    },
    {
     "name": "stdout",
     "output_type": "stream",
     "text": [
      "Name: /data/TMED/approved_users_only/view_and_diagnosis_labeled_set/labeled/1777s1_14.png, GT: early AS\n",
      "Method Default, classes = ['no AS' 'significant AS'], confidences = [0.01601632 0.98397104]\n",
      "Method LE=1, classes = ['significant AS'], confidences = [0.72039819]\n"
     ]
    },
    {
     "data": {
      "image/png": "[encoded data removed]",
      "text/plain": [
       "<PIL.PngImagePlugin.PngImageFile image mode=L size=112x112 at 0x7F7BE6820850>"
      ]
     },
     "metadata": {},
     "output_type": "display_data"
    },
    {
     "name": "stdout",
     "output_type": "stream",
     "text": [
      "Name: /data/TMED/approved_users_only/view_and_diagnosis_labeled_set/labeled/1777s1_15.png, GT: early AS\n",
      "Method Default, classes = ['significant AS'], confidences = [0.99760884]\n",
      "Method LE=1, classes = ['early AS' 'significant AS'], confidences = [0.19659401 0.67668104]\n"
     ]
    },
    {
     "data": {
      "image/png": "[encoded data removed]",
      "text/plain": [
       "<PIL.PngImagePlugin.PngImageFile image mode=L size=112x112 at 0x7F7BE670DED0>"
      ]
     },
     "metadata": {},
     "output_type": "display_data"
    },
    {
     "name": "stdout",
     "output_type": "stream",
     "text": [
      "Name: /data/TMED/approved_users_only/view_and_diagnosis_labeled_set/labeled/1777s1_16.png, GT: early AS\n",
      "Method Default, classes = ['early AS' 'significant AS'], confidences = [0.08533999 0.90947363]\n",
      "Method LE=1, classes = ['early AS' 'significant AS'], confidences = [0.40679623 0.50139138]\n"
     ]
    },
    {
     "data": {
      "image/png": "[encoded data removed]",
      "text/plain": [
       "<PIL.PngImagePlugin.PngImageFile image mode=L size=112x112 at 0x7F7BE670DCD0>"
      ]
     },
     "metadata": {},
     "output_type": "display_data"
    },
    {
     "name": "stdout",
     "output_type": "stream",
     "text": [
      "Name: /data/TMED/approved_users_only/view_and_diagnosis_labeled_set/labeled/1777s1_18.png, GT: early AS\n",
      "Method Default, classes = ['no AS' 'early AS' 'significant AS'], confidences = [0.21512712 0.28480089 0.50007199]\n",
      "Method LE=1, classes = ['no AS' 'early AS' 'significant AS'], confidences = [0.21161491 0.34471979 0.4436653 ]\n"
     ]
    },
    {
     "data": {
      "image/png": "[encoded data removed]",
      "text/plain": [
       "<PIL.PngImagePlugin.PngImageFile image mode=L size=112x112 at 0x7F7BE6820D10>"
      ]
     },
     "metadata": {},
     "output_type": "display_data"
    },
    {
     "name": "stdout",
     "output_type": "stream",
     "text": [
      "Name: /data/TMED/approved_users_only/view_and_diagnosis_labeled_set/labeled/1139s1_13.png, GT: significant AS\n",
      "Method Default, classes = ['no AS' 'early AS' 'significant AS'], confidences = [0.05003815 0.82879312 0.12116872]\n",
      "Method LE=1, classes = ['no AS' 'significant AS'], confidences = [0.7162996  0.22103664]\n"
     ]
    },
    {
     "data": {
      "image/png": "[encoded data removed]",
      "text/plain": [
       "<PIL.PngImagePlugin.PngImageFile image mode=L size=112x112 at 0x7F7BE670DFD0>"
      ]
     },
     "metadata": {},
     "output_type": "display_data"
    },
    {
     "name": "stdout",
     "output_type": "stream",
     "text": [
      "Name: /data/TMED/approved_users_only/view_and_diagnosis_labeled_set/labeled/1139s1_24.png, GT: significant AS\n",
      "Method Default, classes = ['early AS' 'significant AS'], confidences = [0.93695869 0.05663502]\n",
      "Method LE=1, classes = ['no AS' 'significant AS'], confidences = [0.69076946 0.21313746]\n"
     ]
    },
    {
     "data": {
      "image/png": "[encoded data removed]",
      "text/plain": [
       "<PIL.PngImagePlugin.PngImageFile image mode=L size=112x112 at 0x7F7BE6820B90>"
      ]
     },
     "metadata": {},
     "output_type": "display_data"
    },
    {
     "name": "stdout",
     "output_type": "stream",
     "text": [
      "Name: /data/TMED/approved_users_only/view_and_diagnosis_labeled_set/labeled/5868s1_2.png, GT: significant AS\n",
      "Method Default, classes = ['no AS' 'early AS' 'significant AS'], confidences = [0.27643841 0.49432087 0.22924072]\n",
      "Method LE=1, classes = ['no AS' 'early AS' 'significant AS'], confidences = [0.20525341 0.54982006 0.24492653]\n"
     ]
    },
    {
     "data": {
      "image/png": "[encoded data removed]",
      "text/plain": [
       "<PIL.PngImagePlugin.PngImageFile image mode=L size=112x112 at 0x7F7BE6820850>"
      ]
     },
     "metadata": {},
     "output_type": "display_data"
    },
    {
     "name": "stdout",
     "output_type": "stream",
     "text": [
      "Name: /data/TMED/approved_users_only/view_and_diagnosis_labeled_set/labeled/5868s1_4.png, GT: significant AS\n",
      "Method Default, classes = ['early AS'], confidences = [0.99839183]\n",
      "Method LE=1, classes = ['early AS'], confidences = [0.84388717]\n"
     ]
    },
    {
     "data": {
      "image/png": "[encoded data removed]",
      "text/plain": [
       "<PIL.PngImagePlugin.PngImageFile image mode=L size=112x112 at 0x7F7BE670DC10>"
      ]
     },
     "metadata": {},
     "output_type": "display_data"
    },
    {
     "name": "stdout",
     "output_type": "stream",
     "text": [
      "Name: /data/TMED/approved_users_only/view_and_diagnosis_labeled_set/labeled/5868s1_5.png, GT: significant AS\n",
      "Method Default, classes = ['no AS' 'early AS' 'significant AS'], confidences = [0.01280262 0.74484483 0.24235255]\n",
      "Method LE=1, classes = ['early AS'], confidences = [0.90907486]\n"
     ]
    },
    {
     "data": {
      "image/png": "[encoded data removed]",
      "text/plain": [
       "<PIL.PngImagePlugin.PngImageFile image mode=L size=112x112 at 0x7F7BE670DF10>"
      ]
     },
     "metadata": {},
     "output_type": "display_data"
    },
    {
     "name": "stdout",
     "output_type": "stream",
     "text": [
      "Name: /data/TMED/approved_users_only/view_and_diagnosis_labeled_set/labeled/5868s1_7.png, GT: significant AS\n",
      "Method Default, classes = ['no AS'], confidences = [0.99710677]\n",
      "Method LE=1, classes = ['early AS'], confidences = [0.85191197]\n"
     ]
    },
    {
     "data": {
      "image/png": "[encoded data removed]",
      "text/plain": [
       "<PIL.PngImagePlugin.PngImageFile image mode=L size=112x112 at 0x7F7C638D6990>"
      ]
     },
     "metadata": {},
     "output_type": "display_data"
    },
    {
     "name": "stdout",
     "output_type": "stream",
     "text": [
      "Name: /data/TMED/approved_users_only/view_and_diagnosis_labeled_set/labeled/5868s1_8.png, GT: significant AS\n",
      "Method Default, classes = ['no AS' 'early AS' 'significant AS'], confidences = [0.02972872 0.92467236 0.04559892]\n",
      "Method LE=1, classes = ['early AS'], confidences = [0.89792375]\n"
     ]
    },
    {
     "data": {
      "image/png": "[encoded data removed]",
      "text/plain": [
       "<PIL.PngImagePlugin.PngImageFile image mode=L size=112x112 at 0x7F7BE670DF10>"
      ]
     },
     "metadata": {},
     "output_type": "display_data"
    },
    {
     "name": "stdout",
     "output_type": "stream",
     "text": [
      "Name: /data/TMED/approved_users_only/view_and_diagnosis_labeled_set/labeled/5868s1_9.png, GT: significant AS\n",
      "Method Default, classes = ['no AS' 'early AS' 'significant AS'], confidences = [0.76953017 0.11175605 0.11871378]\n",
      "Method LE=1, classes = ['no AS' 'early AS'], confidences = [0.43584254 0.47248473]\n"
     ]
    },
    {
     "data": {
      "image/png": "[encoded data removed]",
      "text/plain": [
       "<PIL.PngImagePlugin.PngImageFile image mode=L size=112x112 at 0x7F7BE6820B90>"
      ]
     },
     "metadata": {},
     "output_type": "display_data"
    },
    {
     "name": "stdout",
     "output_type": "stream",
     "text": [
      "Name: /data/TMED/approved_users_only/view_and_diagnosis_labeled_set/labeled/5868s1_10.png, GT: significant AS\n",
      "Method Default, classes = ['early AS' 'significant AS'], confidences = [0.96110494 0.03883916]\n",
      "Method LE=1, classes = ['early AS'], confidences = [0.91081602]\n"
     ]
    },
    {
     "data": {
      "image/png": "[encoded data removed]",
      "text/plain": [
       "<PIL.PngImagePlugin.PngImageFile image mode=L size=112x112 at 0x7F7BE670DF10>"
      ]
     },
     "metadata": {},
     "output_type": "display_data"
    },
    {
     "name": "stdout",
     "output_type": "stream",
     "text": [
      "Name: /data/TMED/approved_users_only/view_and_diagnosis_labeled_set/labeled/5868s1_11.png, GT: significant AS\n",
      "Method Default, classes = ['no AS' 'early AS' 'significant AS'], confidences = [0.5304636  0.02908243 0.44045397]\n",
      "Method LE=1, classes = ['no AS' 'early AS' 'significant AS'], confidences = [0.2051162  0.53209465 0.26278915]\n"
     ]
    },
    {
     "data": {
      "image/png": "[encoded data removed]",
      "text/plain": [
       "<PIL.PngImagePlugin.PngImageFile image mode=L size=112x112 at 0x7F7BE670DFD0>"
      ]
     },
     "metadata": {},
     "output_type": "display_data"
    },
    {
     "name": "stdout",
     "output_type": "stream",
     "text": [
      "Name: /data/TMED/approved_users_only/view_and_diagnosis_labeled_set/labeled/5868s1_15.png, GT: significant AS\n",
      "Method Default, classes = ['early AS' 'significant AS'], confidences = [0.9560366  0.04339406]\n",
      "Method LE=1, classes = ['early AS'], confidences = [0.85790978]\n"
     ]
    },
    {
     "data": {
      "image/png": "[encoded data removed]",
      "text/plain": [
       "<PIL.PngImagePlugin.PngImageFile image mode=L size=112x112 at 0x7F7BE670DF10>"
      ]
     },
     "metadata": {},
     "output_type": "display_data"
    },
    {
     "name": "stdout",
     "output_type": "stream",
     "text": [
      "Name: /data/TMED/approved_users_only/view_and_diagnosis_labeled_set/labeled/5868s1_21.png, GT: significant AS\n",
      "Method Default, classes = ['early AS' 'significant AS'], confidences = [0.60239913 0.3972903 ]\n",
      "Method LE=1, classes = ['early AS' 'significant AS'], confidences = [0.63699801 0.27555453]\n"
     ]
    },
    {
     "data": {
      "image/png": "[encoded data removed]",
      "text/plain": [
       "<PIL.PngImagePlugin.PngImageFile image mode=L size=112x112 at 0x7F7BE670DDD0>"
      ]
     },
     "metadata": {},
     "output_type": "display_data"
    },
    {
     "name": "stdout",
     "output_type": "stream",
     "text": [
      "Name: /data/TMED/approved_users_only/view_and_diagnosis_labeled_set/labeled/4864s1_0.png, GT: significant AS\n",
      "Method Default, classes = ['early AS' 'significant AS'], confidences = [0.96412535 0.03587085]\n",
      "Method LE=1, classes = ['early AS' 'significant AS'], confidences = [0.71940149 0.18286341]\n"
     ]
    },
    {
     "data": {
      "image/png": "[encoded data removed]",
      "text/plain": [
       "<PIL.PngImagePlugin.PngImageFile image mode=L size=112x112 at 0x7F7BE670DDD0>"
      ]
     },
     "metadata": {},
     "output_type": "display_data"
    },
    {
     "name": "stdout",
     "output_type": "stream",
     "text": [
      "Name: /data/TMED/approved_users_only/view_and_diagnosis_labeled_set/labeled/4864s1_3.png, GT: significant AS\n",
      "Method Default, classes = ['early AS' 'significant AS'], confidences = [0.98030861 0.01968885]\n",
      "Method LE=1, classes = ['early AS' 'significant AS'], confidences = [0.6407588  0.31734685]\n"
     ]
    },
    {
     "data": {
      "image/png": "[encoded data removed]",
      "text/plain": [
       "<PIL.PngImagePlugin.PngImageFile image mode=L size=112x112 at 0x7F7BE670DDD0>"
      ]
     },
     "metadata": {},
     "output_type": "display_data"
    },
    {
     "name": "stdout",
     "output_type": "stream",
     "text": [
      "Name: /data/TMED/approved_users_only/view_and_diagnosis_labeled_set/labeled/4864s1_4.png, GT: significant AS\n",
      "Method Default, classes = ['early AS'], confidences = [0.99236668]\n",
      "Method LE=1, classes = ['early AS' 'significant AS'], confidences = [0.60698135 0.31281305]\n"
     ]
    },
    {
     "data": {
      "image/png": "[encoded data removed]",
      "text/plain": [
       "<PIL.PngImagePlugin.PngImageFile image mode=L size=112x112 at 0x7F7BE670DFD0>"
      ]
     },
     "metadata": {},
     "output_type": "display_data"
    },
    {
     "name": "stdout",
     "output_type": "stream",
     "text": [
      "Name: /data/TMED/approved_users_only/view_and_diagnosis_labeled_set/labeled/4864s1_10.png, GT: significant AS\n",
      "Method Default, classes = ['early AS'], confidences = [0.99850174]\n",
      "Method LE=1, classes = ['early AS' 'significant AS'], confidences = [0.61342281 0.31519327]\n"
     ]
    },
    {
     "data": {
      "image/png": "[encoded data removed]",
      "text/plain": [
       "<PIL.PngImagePlugin.PngImageFile image mode=L size=112x112 at 0x7F7BE670D810>"
      ]
     },
     "metadata": {},
     "output_type": "display_data"
    },
    {
     "name": "stdout",
     "output_type": "stream",
     "text": [
      "Name: /data/TMED/approved_users_only/view_and_diagnosis_labeled_set/labeled/4864s1_20.png, GT: significant AS\n",
      "Method Default, classes = ['early AS'], confidences = [0.99863549]\n",
      "Method LE=1, classes = ['early AS' 'significant AS'], confidences = [0.71679891 0.21518904]\n"
     ]
    },
    {
     "data": {
      "image/png": "[encoded data removed]",
      "text/plain": [
       "<PIL.PngImagePlugin.PngImageFile image mode=L size=112x112 at 0x7F7BE670DED0>"
      ]
     },
     "metadata": {},
     "output_type": "display_data"
    },
    {
     "name": "stdout",
     "output_type": "stream",
     "text": [
      "Name: /data/TMED/approved_users_only/view_and_diagnosis_labeled_set/labeled/2010s1_5.png, GT: significant AS\n",
      "Method Default, classes = ['early AS' 'significant AS'], confidences = [0.85014631 0.14970895]\n",
      "Method LE=1, classes = ['early AS' 'significant AS'], confidences = [0.56305047 0.40386259]\n"
     ]
    },
    {
     "data": {
      "image/png": "[encoded data removed]",
      "text/plain": [
       "<PIL.PngImagePlugin.PngImageFile image mode=L size=112x112 at 0x7F7BE670DF10>"
      ]
     },
     "metadata": {},
     "output_type": "display_data"
    },
    {
     "name": "stdout",
     "output_type": "stream",
     "text": [
      "Name: /data/TMED/approved_users_only/view_and_diagnosis_labeled_set/labeled/2010s1_13.png, GT: significant AS\n",
      "Method Default, classes = ['early AS' 'significant AS'], confidences = [0.96913211 0.03086654]\n",
      "Method LE=1, classes = ['early AS' 'significant AS'], confidences = [0.7085782  0.25132601]\n"
     ]
    },
    {
     "data": {
      "image/png": "[encoded data removed]",
      "text/plain": [
       "<PIL.PngImagePlugin.PngImageFile image mode=L size=112x112 at 0x7F7BE670DED0>"
      ]
     },
     "metadata": {},
     "output_type": "display_data"
    },
    {
     "name": "stdout",
     "output_type": "stream",
     "text": [
      "Name: /data/TMED/approved_users_only/view_and_diagnosis_labeled_set/labeled/2398s1_6.png, GT: significant AS\n",
      "Method Default, classes = ['no AS' 'early AS'], confidences = [0.96780118 0.02623636]\n",
      "Method LE=1, classes = ['no AS' 'early AS' 'significant AS'], confidences = [0.31967511 0.48126215 0.19906273]\n"
     ]
    },
    {
     "data": {
      "image/png": "[encoded data removed]",
      "text/plain": [
       "<PIL.PngImagePlugin.PngImageFile image mode=L size=112x112 at 0x7F7BE670DFD0>"
      ]
     },
     "metadata": {},
     "output_type": "display_data"
    },
    {
     "name": "stdout",
     "output_type": "stream",
     "text": [
      "Name: /data/TMED/approved_users_only/view_and_diagnosis_labeled_set/labeled/2398s1_13.png, GT: significant AS\n",
      "Method Default, classes = ['early AS' 'significant AS'], confidences = [0.98258277 0.01390164]\n",
      "Method LE=1, classes = ['no AS' 'early AS'], confidences = [0.35777357 0.50791175]\n"
     ]
    },
    {
     "data": {
      "image/png": "[encoded data removed]",
      "text/plain": [
       "<PIL.PngImagePlugin.PngImageFile image mode=L size=112x112 at 0x7F7BE670DFD0>"
      ]
     },
     "metadata": {},
     "output_type": "display_data"
    },
    {
     "name": "stdout",
     "output_type": "stream",
     "text": [
      "Name: /data/TMED/approved_users_only/view_and_diagnosis_labeled_set/labeled/2398s1_32.png, GT: significant AS\n",
      "Method Default, classes = ['no AS' 'significant AS'], confidences = [0.97413226 0.01919215]\n",
      "Method LE=1, classes = ['no AS' 'significant AS'], confidences = [0.74162087 0.19692827]\n"
     ]
    },
    {
     "data": {
      "image/png": "[encoded data removed]",
      "text/plain": [
       "<PIL.PngImagePlugin.PngImageFile image mode=L size=112x112 at 0x7F7BE670D810>"
      ]
     },
     "metadata": {},
     "output_type": "display_data"
    },
    {
     "name": "stdout",
     "output_type": "stream",
     "text": [
      "Name: /data/TMED/approved_users_only/view_and_diagnosis_labeled_set/labeled/4098s1_0.png, GT: early AS\n",
      "Method Default, classes = ['significant AS'], confidences = [0.9913015]\n",
      "Method LE=1, classes = ['no AS' 'early AS' 'significant AS'], confidences = [0.54194835 0.2441466  0.21390505]\n"
     ]
    },
    {
     "data": {
      "image/png": "[encoded data removed]",
      "text/plain": [
       "<PIL.PngImagePlugin.PngImageFile image mode=L size=112x112 at 0x7F7BE670DC10>"
      ]
     },
     "metadata": {},
     "output_type": "display_data"
    },
    {
     "name": "stdout",
     "output_type": "stream",
     "text": [
      "Name: /data/TMED/approved_users_only/view_and_diagnosis_labeled_set/labeled/4098s1_1.png, GT: early AS\n",
      "Method Default, classes = ['early AS' 'significant AS'], confidences = [0.03372751 0.96625185]\n",
      "Method LE=1, classes = ['significant AS'], confidences = [0.78651308]\n"
     ]
    },
    {
     "data": {
      "image/png": "[encoded data removed]",
      "text/plain": [
       "<PIL.PngImagePlugin.PngImageFile image mode=L size=112x112 at 0x7F7BE670DB10>"
      ]
     },
     "metadata": {},
     "output_type": "display_data"
    },
    {
     "name": "stdout",
     "output_type": "stream",
     "text": [
      "Name: /data/TMED/approved_users_only/view_and_diagnosis_labeled_set/labeled/4098s1_2.png, GT: early AS\n",
      "Method Default, classes = ['significant AS'], confidences = [0.99738386]\n",
      "Method LE=1, classes = ['significant AS'], confidences = [0.76774903]\n"
     ]
    },
    {
     "data": {
      "image/png": "[encoded data removed]",
      "text/plain": [
       "<PIL.PngImagePlugin.PngImageFile image mode=L size=112x112 at 0x7F7BE670DA90>"
      ]
     },
     "metadata": {},
     "output_type": "display_data"
    },
    {
     "name": "stdout",
     "output_type": "stream",
     "text": [
      "Name: /data/TMED/approved_users_only/view_and_diagnosis_labeled_set/labeled/4098s1_3.png, GT: early AS\n",
      "Method Default, classes = ['early AS' 'significant AS'], confidences = [0.02141231 0.97857576]\n",
      "Method LE=1, classes = ['significant AS'], confidences = [0.81910693]\n"
     ]
    },
    {
     "data": {
      "image/png": "[encoded data removed]",
      "text/plain": [
       "<PIL.PngImagePlugin.PngImageFile image mode=L size=112x112 at 0x7F7BE670DC10>"
      ]
     },
     "metadata": {},
     "output_type": "display_data"
    },
    {
     "name": "stdout",
     "output_type": "stream",
     "text": [
      "Name: /data/TMED/approved_users_only/view_and_diagnosis_labeled_set/labeled/4098s1_10.png, GT: early AS\n",
      "Method Default, classes = ['significant AS'], confidences = [0.98969732]\n",
      "Method LE=1, classes = ['early AS' 'significant AS'], confidences = [0.23455144 0.62825928]\n"
     ]
    },
    {
     "data": {
      "image/png": "[encoded data removed]",
      "text/plain": [
       "<PIL.PngImagePlugin.PngImageFile image mode=L size=112x112 at 0x7F7BE66FEC10>"
      ]
     },
     "metadata": {},
     "output_type": "display_data"
    },
    {
     "name": "stdout",
     "output_type": "stream",
     "text": [
      "Name: /data/TMED/approved_users_only/view_and_diagnosis_labeled_set/labeled/3924s1_3.png, GT: significant AS\n",
      "Method Default, classes = ['no AS' 'significant AS'], confidences = [0.9281687  0.06943182]\n",
      "Method LE=1, classes = ['no AS'], confidences = [0.78596741]\n"
     ]
    }
   ],
   "source": [
    "def plot_tmed_inference(index):\n",
    "    name = df_test_filtered[0]['filename'][index]\n",
    "    get_TMED_image_by_id(name)\n",
    "    show_inference_data(index, True)\n",
    "    \n",
    "\n",
    "count = 0\n",
    "for i in selected:\n",
    "    if count < 50:\n",
    "        plot_tmed_inference(i)\n",
    "        count += 1 "
   ]
  },
  {
   "cell_type": "markdown",
   "id": "ea68c464",
   "metadata": {},
   "source": [
    "## study-level analysis"
   ]
  },
  {
   "cell_type": "code",
   "execution_count": 23,
   "id": "bc55ff3f",
   "metadata": {},
   "outputs": [],
   "source": [
    "# create data structures where the studies are grouped and cines are arranged by view\n",
    "def studyinfo_from_query_key(s):\n",
    "    # Define the regular expression pattern\n",
    "    pattern = r'(\\d+)s(\\d+)_(\\d+)\\.png'\n",
    "    \n",
    "    # Use re.match to search for the pattern in the string\n",
    "    match = re.match(pattern, s)\n",
    "    \n",
    "    # If a match is found, extract the groups and return them as a tuple\n",
    "    if match:\n",
    "        ID, studyNum, imageNum = match.groups()\n",
    "        #return int(ID), int(studyNum), int(imageNum)\n",
    "        return str(ID) + '_' + str(studyNum)\n",
    "    else:\n",
    "        return None\n",
    "    \n",
    "def find_study_id(uids, mode='TMED'):\n",
    "    # uids is a pd.series of unique identifiers\n",
    "    # returns a pd.series of study IDs\n",
    "    basenames = uids.apply(os.path.basename)\n",
    "    study_nums = basenames.apply(studyinfo_from_query_key)\n",
    "    return study_nums\n",
    "\n",
    "def create_study_groups(df, df_view):\n",
    "    output_cols = [x for x in df.columns if 'preds' in x]\n",
    "    output_cols_view = [x for x in df_view.columns if 'preds' in x]\n",
    "    study_nums = find_study_id(df['filename'])\n",
    "    studies = {}\n",
    "    for uid in study_nums.unique():\n",
    "        studies[uid] = {}\n",
    "        study_filenames = df[study_nums == uid]['filename'].to_numpy()\n",
    "        study_diagnosis_preds = df[study_nums == uid][output_cols].to_numpy()\n",
    "        study_view_preds = df_view[study_nums == uid][output_cols_view].to_numpy()\n",
    "        study_y = df[study_nums == uid]['y'].to_numpy()\n",
    "        studies[uid]['filenames'] = study_filenames\n",
    "        studies[uid]['preds'] = study_diagnosis_preds\n",
    "        studies[uid]['view_preds'] = study_view_preds\n",
    "        studies[uid]['y'] = int(study_y[0])\n",
    "        \n",
    "    return studies\n",
    "\n",
    "studies = []\n",
    "studies_val = []\n",
    "for i in range(len(methods)):\n",
    "    studies.append(create_study_groups(df_test[i], df_view_test))\n",
    "    studies_val.append(create_study_groups(df_val[i], df_view_val))"
   ]
  },
  {
   "cell_type": "code",
   "execution_count": 24,
   "id": "46590e1a",
   "metadata": {},
   "outputs": [],
   "source": [
    "def aggregate_study_pred(preds, view_preds):\n",
    "    # (N, C) preds [0,1], (N, C_view) view_preds [0,1]\n",
    "    key_views = [2,3] # these view IDs correspond to PLAX, PSAX\n",
    "    key_view_confidence = np.sum(view_preds[:, key_views], axis=1)\n",
    "    view_scaled_confidence = preds * key_view_confidence[:, np.newaxis]\n",
    "    aggregated_confidence = view_scaled_confidence.sum(axis=0) / np.sum(key_view_confidence)\n",
    "    return aggregated_confidence\n",
    "\n",
    "def process_all_study_preds(studies_dict):\n",
    "    preds_list = []\n",
    "    gts_list = []\n",
    "    for k in studies_dict.keys():\n",
    "        entry = studies_dict[k]\n",
    "        preds_list.append(aggregate_study_pred(entry['preds'], entry['view_preds']))\n",
    "        gts_list.append(entry['y'])\n",
    "    return np.array(preds_list), np.array(gts_list)\n",
    "    \n",
    "test_preds_study_level = [] \n",
    "test_y_study_level = []\n",
    "val_preds_study_level = []\n",
    "val_y_study_level = []\n",
    "for i in range(len(methods)):\n",
    "    preds, gts = process_all_study_preds(studies[i])\n",
    "    test_preds_study_level.append(preds)\n",
    "    test_y_study_level.append(gts)\n",
    "    \n",
    "    preds, gts = process_all_study_preds(studies_val[i])\n",
    "    val_preds_study_level.append(preds)\n",
    "    val_y_study_level.append(gts)\n",
    "    "
   ]
  },
  {
   "cell_type": "code",
   "execution_count": 25,
   "id": "e472483d",
   "metadata": {},
   "outputs": [
    {
     "name": "stdout",
     "output_type": "stream",
     "text": [
      "Method: Default, balanced top-1 acc = 0.7324183006535948\n",
      "[[19  3  3]\n",
      " [ 8 16 10]\n",
      " [ 0  2 58]]\n",
      "Method: LE=1, balanced top-1 acc = 0.7422222222222222\n",
      "[[19  1  5]\n",
      " [ 8 17  9]\n",
      " [ 0  2 58]]\n"
     ]
    }
   ],
   "source": [
    "# compute the top-1 balanced accuracy\n",
    "for i in range(len(methods)):\n",
    "    test_gt = test_y_study_level[i]\n",
    "    test_pred = np.argmax(test_preds_study_level[i], axis=1)\n",
    "    \n",
    "    test_acc = balanced_accuracy_score(test_gt, test_pred)\n",
    "    print(f\"Method: {methods[i]}, balanced top-1 acc = {test_acc}\")\n",
    "    print(confusion_matrix(test_gt, test_pred))"
   ]
  },
  {
   "cell_type": "code",
   "execution_count": 26,
   "id": "1eda956a",
   "metadata": {},
   "outputs": [
    {
     "name": "stdout",
     "output_type": "stream",
     "text": [
      "Default\n",
      "[0 1 2]\n",
      "cov: 0.9047619047619048, 0.05863273504662407\n",
      "bcov: 0.8899607839825231, 0.06493170893128397\n",
      "card: 1.8571428571428572, 0.33133679284797907\n",
      "LE=1\n",
      "[0 1 2]\n",
      "cov: 0.9285714285714286, 0.0556216160528944\n",
      "bcov: 0.9184203736292977, 0.06172014179262875\n",
      "card: 2.136904761904762, 0.33934001236360223\n"
     ]
    }
   ],
   "source": [
    "# Conformal prediction using LABEL\n",
    "for i in range(len(methods)):\n",
    "    print(methods[i])\n",
    "    y_test = test_y_study_level[i]\n",
    "    y_val = val_y_study_level[i]\n",
    "    \n",
    "    val_sm = val_preds_study_level[i]\n",
    "    test_sm = test_preds_study_level[i]\n",
    "    \n",
    "    print(np.unique(y_test))\n",
    "    \n",
    "    cov, bcov, card = develop_coverage_distribution(y_test, test_sm, n_splits=100, test_size=0.7, alpha=0.1)\n",
    "    \n",
    "    print(f\"cov: {np.median(cov)}, {np.std(cov)}\")\n",
    "    print(f\"bcov: {np.median(bcov)}, {np.std(bcov)}\")\n",
    "    print(f\"card: {np.median(card)}, {np.std(card)}\")\n",
    "    \n",
    "#     alphas = [0.1]\n",
    "#     for a in alphas:\n",
    "#         qhat = LABEL_fit(y_val, val_sm, alpha=a, verbose=False)\n",
    "#         cs = LABEL_inference(test_sm,  qhat)\n",
    "\n",
    "#         cov = coverage_test(y_test, cs)\n",
    "#         bcov = balanced_coverage_test(y_test, cs)\n",
    "#         card = cardinality_test(cs)\n",
    "#         if dataset != 'CIFAR':\n",
    "#             print(ordinality_test_arr(cs))\n",
    "#         print(f\"Method {methods[i]} alpha={a}: cov={cov}, bcov={bcov}, card={card}, efficiency={bcov/card}\")"
   ]
  },
  {
   "cell_type": "code",
   "execution_count": null,
   "id": "d8b08515",
   "metadata": {},
   "outputs": [],
   "source": []
  }
 ],
 "metadata": {
  "kernelspec": {
   "display_name": "Python 3 (ipykernel)",
   "language": "python",
   "name": "python3"
  },
  "language_info": {
   "codemirror_mode": {
    "name": "ipython",
    "version": 3
   },
   "file_extension": ".py",
   "mimetype": "text/x-python",
   "name": "python",
   "nbconvert_exporter": "python",
   "pygments_lexer": "ipython3",
   "version": "3.7.13"
  }
 },
 "nbformat": 4,
 "nbformat_minor": 5
}
