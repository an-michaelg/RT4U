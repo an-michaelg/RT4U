{
 "cells": [
  {
   "cell_type": "code",
   "execution_count": 1,
   "id": "dd69626b",
   "metadata": {},
   "outputs": [],
   "source": [
    "# Post-processing with conformal prediction, using the logits tracked from training\n",
    "import os\n",
    "import numpy as np\n",
    "import pandas as pd\n",
    "import glob\n",
    "import re\n",
    "from scipy.special import softmax\n",
    "\n",
    "from scipy.io import loadmat\n",
    "from skimage.transform import resize\n",
    "from sklearn.metrics import f1_score, confusion_matrix\n",
    "import matplotlib.pyplot as plt"
   ]
  },
  {
   "cell_type": "code",
   "execution_count": 2,
   "id": "169bfdc4",
   "metadata": {},
   "outputs": [
    {
     "name": "stdout",
     "output_type": "stream",
     "text": [
      "['../logs/R18_cifar/round1/csvs/val_0_0.72.csv', '../logs/R18_cifar/round1/csvs/val_1_0.74.csv', '../logs/R18_cifar/round1/csvs/val_2_0.75.csv', '../logs/R18_cifar/round1/csvs/val_3_0.75.csv', '../logs/R18_cifar/round1/csvs/val_4_0.76.csv', '../logs/R18_cifar/round1/csvs/val_5_0.76.csv', '../logs/R18_cifar/round1/csvs/val_6_0.76.csv', '../logs/R18_cifar/round1/csvs/val_7_0.76.csv', '../logs/R18_cifar/round1/csvs/val_8_0.76.csv', '../logs/R18_cifar/round1/csvs/val_9_0.76.csv']\n"
     ]
    }
   ],
   "source": [
    "# analyze the dataframes for training and validation from each epoch\n",
    "# we start by grabbing the dataframes\n",
    "\n",
    "#csv_folder = \"../logs/Baseline_r2plus1d_all/csvs/\"\n",
    "csv_folder = \"../logs/R18_cifar/round1/csvs\"\n",
    "train_csvs = glob.glob(f\"{csv_folder}/train_*.csv\")\n",
    "val_csvs = glob.glob(f\"{csv_folder}/val_*.csv\")\n",
    "\n",
    "N_CLASSES=10\n",
    "ALPHA=0.10\n",
    "\n",
    "def extract_file_index(filename):\n",
    "    # Use regular expression to find numerical part in the filename\n",
    "    match = re.findall(r'\\d+', filename)[-3]\n",
    "    if match:\n",
    "        numerical_part = int(match)\n",
    "        return numerical_part\n",
    "    else:\n",
    "        # Return a default value or handle the case where no numerical part is found\n",
    "        return None\n",
    "\n",
    "# sort ascending by the numerical suffix for each file with regex search\n",
    "def sort_by_epoch(files_list):\n",
    "    indices = []\n",
    "    for i in range(len(files_list)):\n",
    "        index = extract_file_index(files_list[i])\n",
    "        indices.append(index)\n",
    "    new_array = [None] * len(indices)\n",
    "    for j in range(len(indices)):\n",
    "        new_array[indices[j]] = files_list[j]\n",
    "    return new_array\n",
    "\n",
    "print(sort_by_epoch(val_csvs))\n",
    "#print(train_csvs)"
   ]
  },
  {
   "cell_type": "code",
   "execution_count": 3,
   "id": "5d2a6e89",
   "metadata": {},
   "outputs": [],
   "source": [
    "train_df = [pd.read_csv(x) for x in sort_by_epoch(train_csvs)]\n",
    "val_df = [pd.read_csv(x) for x in sort_by_epoch(val_csvs)]\n",
    "\n",
    "# since train_df is ordered randomly, sort each dataframe by the filename\n",
    "train_df = [df.sort_values(by=['filename']).reset_index() for df in train_df]\n",
    "val_df = [df.sort_values(by=['filename']).reset_index() for df in val_df]"
   ]
  },
  {
   "cell_type": "code",
   "execution_count": 4,
   "id": "059c3ba7",
   "metadata": {},
   "outputs": [
    {
     "data": {
      "text/html": [
       "<div>\n",
       "<style scoped>\n",
       "    .dataframe tbody tr th:only-of-type {\n",
       "        vertical-align: middle;\n",
       "    }\n",
       "\n",
       "    .dataframe tbody tr th {\n",
       "        vertical-align: top;\n",
       "    }\n",
       "\n",
       "    .dataframe thead th {\n",
       "        text-align: right;\n",
       "    }\n",
       "</style>\n",
       "<table border=\"1\" class=\"dataframe\">\n",
       "  <thead>\n",
       "    <tr style=\"text-align: right;\">\n",
       "      <th></th>\n",
       "      <th>index</th>\n",
       "      <th>Unnamed: 0</th>\n",
       "      <th>filename</th>\n",
       "      <th>y</th>\n",
       "      <th>outputs_0</th>\n",
       "      <th>outputs_1</th>\n",
       "      <th>outputs_2</th>\n",
       "      <th>outputs_3</th>\n",
       "      <th>outputs_4</th>\n",
       "      <th>outputs_5</th>\n",
       "      <th>outputs_6</th>\n",
       "      <th>outputs_7</th>\n",
       "      <th>outputs_8</th>\n",
       "      <th>outputs_9</th>\n",
       "    </tr>\n",
       "  </thead>\n",
       "  <tbody>\n",
       "    <tr>\n",
       "      <th>0</th>\n",
       "      <td>138887</td>\n",
       "      <td>138887</td>\n",
       "      <td>0</td>\n",
       "      <td>6</td>\n",
       "      <td>-2.055141</td>\n",
       "      <td>-0.997491</td>\n",
       "      <td>2.321488</td>\n",
       "      <td>2.662184</td>\n",
       "      <td>0.674063</td>\n",
       "      <td>1.089346</td>\n",
       "      <td>4.410739</td>\n",
       "      <td>-1.187187</td>\n",
       "      <td>-0.762652</td>\n",
       "      <td>-1.998830</td>\n",
       "    </tr>\n",
       "    <tr>\n",
       "      <th>1</th>\n",
       "      <td>112797</td>\n",
       "      <td>112797</td>\n",
       "      <td>1</td>\n",
       "      <td>6</td>\n",
       "      <td>-1.267461</td>\n",
       "      <td>-1.003492</td>\n",
       "      <td>0.224644</td>\n",
       "      <td>2.594508</td>\n",
       "      <td>1.428692</td>\n",
       "      <td>1.519615</td>\n",
       "      <td>3.732602</td>\n",
       "      <td>-0.582827</td>\n",
       "      <td>-0.766820</td>\n",
       "      <td>-2.783251</td>\n",
       "    </tr>\n",
       "    <tr>\n",
       "      <th>2</th>\n",
       "      <td>111324</td>\n",
       "      <td>111324</td>\n",
       "      <td>2</td>\n",
       "      <td>6</td>\n",
       "      <td>-1.896580</td>\n",
       "      <td>-2.024358</td>\n",
       "      <td>0.223772</td>\n",
       "      <td>2.991205</td>\n",
       "      <td>0.710831</td>\n",
       "      <td>3.020461</td>\n",
       "      <td>2.378181</td>\n",
       "      <td>2.209347</td>\n",
       "      <td>-2.099962</td>\n",
       "      <td>-2.364418</td>\n",
       "    </tr>\n",
       "    <tr>\n",
       "      <th>3</th>\n",
       "      <td>27210</td>\n",
       "      <td>27210</td>\n",
       "      <td>3</td>\n",
       "      <td>6</td>\n",
       "      <td>-1.874459</td>\n",
       "      <td>-1.927674</td>\n",
       "      <td>0.812546</td>\n",
       "      <td>2.580495</td>\n",
       "      <td>1.144187</td>\n",
       "      <td>1.516077</td>\n",
       "      <td>3.327151</td>\n",
       "      <td>0.957737</td>\n",
       "      <td>-1.517279</td>\n",
       "      <td>-1.086343</td>\n",
       "    </tr>\n",
       "    <tr>\n",
       "      <th>4</th>\n",
       "      <td>102178</td>\n",
       "      <td>102178</td>\n",
       "      <td>4</td>\n",
       "      <td>9</td>\n",
       "      <td>0.043180</td>\n",
       "      <td>0.537062</td>\n",
       "      <td>0.190971</td>\n",
       "      <td>-0.281621</td>\n",
       "      <td>-0.345787</td>\n",
       "      <td>-2.103682</td>\n",
       "      <td>-0.185933</td>\n",
       "      <td>-0.210845</td>\n",
       "      <td>1.513715</td>\n",
       "      <td>2.533091</td>\n",
       "    </tr>\n",
       "    <tr>\n",
       "      <th>...</th>\n",
       "      <td>...</td>\n",
       "      <td>...</td>\n",
       "      <td>...</td>\n",
       "      <td>...</td>\n",
       "      <td>...</td>\n",
       "      <td>...</td>\n",
       "      <td>...</td>\n",
       "      <td>...</td>\n",
       "      <td>...</td>\n",
       "      <td>...</td>\n",
       "      <td>...</td>\n",
       "      <td>...</td>\n",
       "      <td>...</td>\n",
       "      <td>...</td>\n",
       "    </tr>\n",
       "    <tr>\n",
       "      <th>159995</th>\n",
       "      <td>82725</td>\n",
       "      <td>82725</td>\n",
       "      <td>159995</td>\n",
       "      <td>2</td>\n",
       "      <td>2.030861</td>\n",
       "      <td>-1.010509</td>\n",
       "      <td>5.503224</td>\n",
       "      <td>0.128208</td>\n",
       "      <td>2.211293</td>\n",
       "      <td>-0.680888</td>\n",
       "      <td>0.959767</td>\n",
       "      <td>0.743401</td>\n",
       "      <td>-0.276654</td>\n",
       "      <td>-3.725714</td>\n",
       "    </tr>\n",
       "    <tr>\n",
       "      <th>159996</th>\n",
       "      <td>17596</td>\n",
       "      <td>17596</td>\n",
       "      <td>159996</td>\n",
       "      <td>8</td>\n",
       "      <td>1.351278</td>\n",
       "      <td>0.433287</td>\n",
       "      <td>-0.816691</td>\n",
       "      <td>-1.066306</td>\n",
       "      <td>-1.446493</td>\n",
       "      <td>-1.611002</td>\n",
       "      <td>-3.443231</td>\n",
       "      <td>0.102890</td>\n",
       "      <td>2.296309</td>\n",
       "      <td>3.933851</td>\n",
       "    </tr>\n",
       "    <tr>\n",
       "      <th>159997</th>\n",
       "      <td>36040</td>\n",
       "      <td>36040</td>\n",
       "      <td>159997</td>\n",
       "      <td>8</td>\n",
       "      <td>3.657224</td>\n",
       "      <td>1.952378</td>\n",
       "      <td>-1.343915</td>\n",
       "      <td>-0.628178</td>\n",
       "      <td>-0.731699</td>\n",
       "      <td>-2.051197</td>\n",
       "      <td>-3.962487</td>\n",
       "      <td>0.834075</td>\n",
       "      <td>2.048017</td>\n",
       "      <td>2.443125</td>\n",
       "    </tr>\n",
       "    <tr>\n",
       "      <th>159998</th>\n",
       "      <td>48897</td>\n",
       "      <td>48897</td>\n",
       "      <td>159998</td>\n",
       "      <td>8</td>\n",
       "      <td>0.522075</td>\n",
       "      <td>0.105437</td>\n",
       "      <td>0.570110</td>\n",
       "      <td>0.267854</td>\n",
       "      <td>-0.495493</td>\n",
       "      <td>0.096801</td>\n",
       "      <td>-0.786295</td>\n",
       "      <td>-1.624779</td>\n",
       "      <td>4.292795</td>\n",
       "      <td>0.305442</td>\n",
       "    </tr>\n",
       "    <tr>\n",
       "      <th>159999</th>\n",
       "      <td>62624</td>\n",
       "      <td>62624</td>\n",
       "      <td>159999</td>\n",
       "      <td>8</td>\n",
       "      <td>0.250505</td>\n",
       "      <td>-0.099102</td>\n",
       "      <td>1.601572</td>\n",
       "      <td>-0.268112</td>\n",
       "      <td>-0.948702</td>\n",
       "      <td>1.035006</td>\n",
       "      <td>-1.630567</td>\n",
       "      <td>0.919522</td>\n",
       "      <td>0.039939</td>\n",
       "      <td>0.044957</td>\n",
       "    </tr>\n",
       "  </tbody>\n",
       "</table>\n",
       "<p>160000 rows × 14 columns</p>\n",
       "</div>"
      ],
      "text/plain": [
       "         index  Unnamed: 0  filename  y  outputs_0  outputs_1  outputs_2  \\\n",
       "0       138887      138887         0  6  -2.055141  -0.997491   2.321488   \n",
       "1       112797      112797         1  6  -1.267461  -1.003492   0.224644   \n",
       "2       111324      111324         2  6  -1.896580  -2.024358   0.223772   \n",
       "3        27210       27210         3  6  -1.874459  -1.927674   0.812546   \n",
       "4       102178      102178         4  9   0.043180   0.537062   0.190971   \n",
       "...        ...         ...       ... ..        ...        ...        ...   \n",
       "159995   82725       82725    159995  2   2.030861  -1.010509   5.503224   \n",
       "159996   17596       17596    159996  8   1.351278   0.433287  -0.816691   \n",
       "159997   36040       36040    159997  8   3.657224   1.952378  -1.343915   \n",
       "159998   48897       48897    159998  8   0.522075   0.105437   0.570110   \n",
       "159999   62624       62624    159999  8   0.250505  -0.099102   1.601572   \n",
       "\n",
       "        outputs_3  outputs_4  outputs_5  outputs_6  outputs_7  outputs_8  \\\n",
       "0        2.662184   0.674063   1.089346   4.410739  -1.187187  -0.762652   \n",
       "1        2.594508   1.428692   1.519615   3.732602  -0.582827  -0.766820   \n",
       "2        2.991205   0.710831   3.020461   2.378181   2.209347  -2.099962   \n",
       "3        2.580495   1.144187   1.516077   3.327151   0.957737  -1.517279   \n",
       "4       -0.281621  -0.345787  -2.103682  -0.185933  -0.210845   1.513715   \n",
       "...           ...        ...        ...        ...        ...        ...   \n",
       "159995   0.128208   2.211293  -0.680888   0.959767   0.743401  -0.276654   \n",
       "159996  -1.066306  -1.446493  -1.611002  -3.443231   0.102890   2.296309   \n",
       "159997  -0.628178  -0.731699  -2.051197  -3.962487   0.834075   2.048017   \n",
       "159998   0.267854  -0.495493   0.096801  -0.786295  -1.624779   4.292795   \n",
       "159999  -0.268112  -0.948702   1.035006  -1.630567   0.919522   0.039939   \n",
       "\n",
       "        outputs_9  \n",
       "0       -1.998830  \n",
       "1       -2.783251  \n",
       "2       -2.364418  \n",
       "3       -1.086343  \n",
       "4        2.533091  \n",
       "...           ...  \n",
       "159995  -3.725714  \n",
       "159996   3.933851  \n",
       "159997   2.443125  \n",
       "159998   0.305442  \n",
       "159999   0.044957  \n",
       "\n",
       "[160000 rows x 14 columns]"
      ]
     },
     "execution_count": 4,
     "metadata": {},
     "output_type": "execute_result"
    }
   ],
   "source": [
    "train_df[0]"
   ]
  },
  {
   "cell_type": "code",
   "execution_count": 5,
   "id": "a2d2727c",
   "metadata": {},
   "outputs": [],
   "source": [
    "def df_to_logits(df, sm=False):\n",
    "    # take the outputs_x rows and conver them to array of (N, C)\n",
    "    cols = [x for x in df.columns if 'outputs' in x]\n",
    "    logits = df[cols].to_numpy()\n",
    "    if sm:\n",
    "        logits = softmax(logits, axis=1)\n",
    "    return logits\n",
    "\n",
    "train_probs = [df_to_logits(x, False) for x in train_df]\n",
    "val_probs = [df_to_logits(x, False) for x in val_df]"
   ]
  },
  {
   "cell_type": "code",
   "execution_count": 6,
   "id": "de3382b5",
   "metadata": {},
   "outputs": [
    {
     "data": {
      "image/png": "[encoded data removed]",
      "text/plain": [
       "<Figure size 864x288 with 1 Axes>"
      ]
     },
     "metadata": {
      "needs_background": "light"
     },
     "output_type": "display_data"
    },
    {
     "data": {
      "image/png": "[encoded data removed]",
      "text/plain": [
       "<Figure size 864x288 with 1 Axes>"
      ]
     },
     "metadata": {
      "needs_background": "light"
     },
     "output_type": "display_data"
    },
    {
     "name": "stdout",
     "output_type": "stream",
     "text": [
      "[[10708   578   694   382   381   172   204   313  1872   640]\n",
      " [  625 11689   218   241   242   125   180   204   688  1732]\n",
      " [ 1122   260  8461  1061  1672   878  1459   675   437   167]\n",
      " [  468   252   925  8060   960  2652  1267   581   382   389]\n",
      " [  379    93  1141   811  9644   620  1372  1413   375   164]\n",
      " [  248   176   910  2652  1055  8914   603   966   185   191]\n",
      " [  214   138   966   864  1088   432 11934   190   144   110]\n",
      " [  386   234   601   837  1497   979   324 10496   283   455]\n",
      " [ 1845   728   285   262   369   155   172   173 11135   864]\n",
      " [  697  1616   159   269   308   152   166   320   874 11351]]\n",
      "[[12380   308   491   285   218   113   158   222  1320   449]\n",
      " [  383 13290   149   172    86    71   101   114   462  1116]\n",
      " [  837   145 10885   761  1122   540  1052   458   293    99]\n",
      " [  360   159   750 10041   624  2226   854   438   244   240]\n",
      " [  272    45   915   553 11587   482   928   907   229    94]\n",
      " [  153   101   662  2272   693 10678   414   674   145   108]\n",
      " [  163    76   690   560   666   265 13381   111   104    64]\n",
      " [  263   131   440   597   980   676   189 12406   184   226]\n",
      " [ 1198   407   206   179   173    89   121   120 12860   635]\n",
      " [  514  1020    99   172   113    82   110   212   616 12974]]\n",
      "[[13173   232   381   220   170    96   138   138  1056   340]\n",
      " [  315 13933   103   116    69    49    82    86   352   839]\n",
      " [  707    89 11866   644   947   446   845   327   246    75]\n",
      " [  285   111   608 11057   536  1930   681   346   199   183]\n",
      " [  219    31   727   439 12526   374   728   702   190    76]\n",
      " [  127    69   492  1986   600 11571   334   526   106    89]\n",
      " [  122    49   508   427   457   205 14102    79    73    58]\n",
      " [  218    63   334   469   802   518   146 13200   147   195]\n",
      " [ 1006   312   155   145   136    66    86    87 13509   486]\n",
      " [  390   789    78   132   100    63    78   135   502 13645]]\n",
      "[[13800   160   288   185   141    70   115   108   830   247]\n",
      " [  238 14359    83    93    56    38    54    59   279   685]\n",
      " [  616    66 12597   531   796   368   699   251   202    66]\n",
      " [  252    84   533 11893   434  1656   550   254   143   137]\n",
      " [  196    30   572   400 13181   322   551   552   160    48]\n",
      " [   98    59   425  1664   479 12307   280   433    91    64]\n",
      " [   93    37   453   355   358   139 14506    54    63    22]\n",
      " [  164    58   291   355   655   406   113 13795   118   137]\n",
      " [  792   232   131   121   122    58    73    53 14030   376]\n",
      " [  333   566    65   108    71    49    65    95   403 14157]]\n",
      "[[14174   120   255   150    89    60    78    85   718   215]\n",
      " [  198 14696    67    68    55    28    48    34   245   505]\n",
      " [  548    59 13250   438   671   261   564   183   178    40]\n",
      " [  186    68   446 12682   366  1302   443   200   132   111]\n",
      " [  179    19   456   315 13762   233   464   408   126    50]\n",
      " [   86    45   322  1343   415 13013   209   346    75    46]\n",
      " [   71    22   343   266   281   129 14852    45    52    19]\n",
      " [  131    47   226   270   533   318    92 14264   107   104]\n",
      " [  669   155   118    86    85    41    57    51 14412   314]\n",
      " [  258   461    58    85    60    44    56    67   307 14516]]\n",
      "[[14468   103   208   119    79    39    69    62   606   191]\n",
      " [  155 14899    57    69    43    26    43    30   215   407]\n",
      " [  469    46 13676   405   560   229   476   173   125    33]\n",
      " [  169    55   393 13247   328  1068   341   133   109    93]\n",
      " [  157    18   390   250 14138   204   360   348   115    32]\n",
      " [   74    30   274  1107   340 13530   159   280    63    43]\n",
      " [   73    27   295   218   217    99 15044    35    51    21]\n",
      " [  101    34   164   254   446   255    60 14624    81    73]\n",
      " [  569   159    80    68    83    38    40    37 14668   246]\n",
      " [  244   336    52    69    53    31    39    55   262 14771]]\n",
      "[[14675    80   171   108    76    30    64    45   544   151]\n",
      " [  117 15057    62    40    38    16    38    38   177   361]\n",
      " [  419    35 14082   303   476   179   394   142   131    31]\n",
      " [  141    39   324 13700   258   887   304   116    98    69]\n",
      " [  124    13   335   206 14430   169   310   281   113    31]\n",
      " [   53    36   253   921   306 13875   132   231    49    44]\n",
      " [   64    16   219   181   207    85 15237    18    43    10]\n",
      " [   79    26   138   190   359   200    53 14912    66    69]\n",
      " [  509   122    74    57    63    27    41    29 14854   212]\n",
      " [  204   315    38    58    40    29    29    57   236 14906]]\n",
      "[[14821    70   163    88    69    27    50    40   484   132]\n",
      " [  122 15137    42    46    41    19    38    19   163   317]\n",
      " [  406    23 14362   262   431   148   348   100    97    15]\n",
      " [  123    35   271 13968   253   774   275   104    85    48]\n",
      " [  130    10   281   187 14610   138   310   232    89    25]\n",
      " [   48    36   224   765   257 14147   143   210    49    21]\n",
      " [   49    19   215   138   171    75 15341    18    40    14]\n",
      " [   81    20   142   174   345   179    58 14986    56    51]\n",
      " [  433   119    81    61    69    27    36    26 14963   173]\n",
      " [  193   270    35    50    40    24    30    32   196 15042]]\n",
      "[[14918    56   155   101    57    27    52    42   418   118]\n",
      " [  104 15206    36    37    38    15    25    17   156   310]\n",
      " [  375    33 14438   242   381   141   352   103   100    27]\n",
      " [  128    32   253 14212   197   666   245    61    80    62]\n",
      " [  101     9   283   171 14752   123   246   227    82    18]\n",
      " [   50    22   188   688   236 14309   138   182    51    36]\n",
      " [   53    17   206   141   155    64 15382    22    30    10]\n",
      " [   75    15   132   139   279   152    42 15144    56    58]\n",
      " [  413    95    54    48    60    29    32    17 15069   171]\n",
      " [  189   246    29    41    41    18    21    44   204 15079]]\n",
      "[[15001    47   125    65    53    23    42    50   422   116]\n",
      " [   96 15256    38    33    38     9    28    19   138   289]\n",
      " [  368    29 14574   214   356   128   306    79   111    27]\n",
      " [  114    30   252 14305   212   595   233    73    71    51]\n",
      " [  114    13   246   141 14858   108   242   190    77    23]\n",
      " [   44    19   192   640   221 14419   113   180    41    31]\n",
      " [   44    13   185   135   131    54 15454    24    32     8]\n",
      " [   77    23   115   150   259   131    32 15198    55    52]\n",
      " [  381    88    52    46    45    16    30    27 15146   157]\n",
      " [  157   219    32    40    40    25    28    32   188 15151]]\n",
      "[[3126   81  152   53   69   28   45   87  291  124]\n",
      " [ 128 3267   47   45   46   23   22   50  125  303]\n",
      " [ 153   33 2427  172  313  195  273  152   75   15]\n",
      " [  99   37  240 2177  145  830  316  112   59   49]\n",
      " [  73   10  240  120 2703  209  272  289   58   14]\n",
      " [  47   26  154  476  165 2806  119  227   43   37]\n",
      " [  24   18  217  141  177   96 3188   30   19   10]\n",
      " [  63   24  124  117  207  255   48 2986   38   46]\n",
      " [ 395  120   50   51   48   19   27   47 3101  154]\n",
      " [ 184  317   37   52   42   28   29   82  158 3159]]\n",
      "[[3343   83  115   48   31   11   37   54  232  102]\n",
      " [ 131 3433   28   37   26   14   26   38  110  213]\n",
      " [ 184   28 2478  189  239  157  319  127   67   20]\n",
      " [ 123   46  208 2541  117  532  293  102   53   49]\n",
      " [  87   11  231  157 2683  134  327  277   66   15]\n",
      " [  55   25  138  705  142 2612  130  215   31   47]\n",
      " [  33   26  157  146  107   66 3321   32   19   13]\n",
      " [  87   29  129  132  179  178   54 3015   46   59]\n",
      " [ 451  133   43   49   20   16   26   29 3109  136]\n",
      " [ 188  354   35   43   33   13   20   43  164 3195]]\n",
      "[[3176   72  140   54   36   19   39   63  298  159]\n",
      " [ 101 3318   32   35   38   18   13   41  109  351]\n",
      " [ 137   34 2627  185  254  134  211  125   77   24]\n",
      " [ 102   37  228 2626  122  509  225  106   58   51]\n",
      " [  70   11  254  183 2758  126  214  288   67   17]\n",
      " [  45   30  176  713  166 2602   91  208   27   42]\n",
      " [  27   24  199  163  152   59 3215   39   29   13]\n",
      " [  58   26  138  134  183  146   31 3090   40   62]\n",
      " [ 319  118   48   44   30   10   22   31 3208  182]\n",
      " [ 123  215   35   44   40   22   21   59  131 3398]]\n",
      "[[3112   74  168   57   54   18   29   55  284  205]\n",
      " [  76 3332   32   29   36   18   12   33  105  383]\n",
      " [ 112   28 2731  162  232  145  212   89   64   33]\n",
      " [  75   37  280 2442  130  654  212   95   53   86]\n",
      " [  58    6  307  139 2833  155  187  225   61   17]\n",
      " [  23   22  165  534  170 2799   85  204   28   70]\n",
      " [  19   20  238  136  168   87 3174   31   21   26]\n",
      " [  48   22  161  109  230  188   30 2984   42   94]\n",
      " [ 281  102   58   44   36   19   26   24 3217  205]\n",
      " [  93  195   33   30   40   17   16   36  119 3509]]\n",
      "[[3285   69   85   69   36   21   35   70  278  108]\n",
      " [ 115 3392   20   53   29   20   21   36  111  259]\n",
      " [ 158   30 2458  276  261  184  216  132   76   17]\n",
      " [  98   27  145 2836  103  539  158   80   49   29]\n",
      " [  66    9  192  225 2818  158  207  228   70   15]\n",
      " [  43   26  103  813  159 2651   72  185   27   21]\n",
      " [  25   16  177  252  133   95 3145   35   33    9]\n",
      " [  57   23   95  168  191  184   29 3068   42   51]\n",
      " [ 325  121   26   64   31   15   14   31 3262  123]\n",
      " [ 145  246   23   70   32   26   22   53  175 3296]]\n",
      "[[3212   64   85   50   48   21   42   53  319  162]\n",
      " [  88 3362   30   43   47   24   32   33  110  287]\n",
      " [ 160   17 2449  206  291  185  288  122   68   22]\n",
      " [  97   25  152 2581  130  632  280   68   49   50]\n",
      " [  48    3  187  161 2937  148  228  199   61   16]\n",
      " [  34   17  103  591  194 2802  119  181   23   36]\n",
      " [  25   11  134  146  139   73 3348   19   16    9]\n",
      " [  48   15  104  138  245  181   52 3024   39   62]\n",
      " [ 273  103   33   57   42   20   29   30 3244  181]\n",
      " [  92  251   30   45   46   19   24   46  126 3409]]\n",
      "[[3196   71  124   56   36   25   34   56  321  137]\n",
      " [  77 3433   28   27   29   25   18   32  123  264]\n",
      " [ 125   23 2566  209  240  181  237  122   82   23]\n",
      " [ 102   31  178 2654  102  559  232   85   66   55]\n",
      " [  63    9  233  178 2779  156  243  234   73   20]\n",
      " [  32   30  129  700  141 2717   99  177   33   42]\n",
      " [  21   21  166  172  115   82 3281   20   22   20]\n",
      " [  52   27  116  121  190  182   41 3063   53   63]\n",
      " [ 252  124   34   39   29   14   23   30 3308  159]\n",
      " [  98  251   32   33   27   19   19   47  153 3409]]\n",
      "[[3301   74   86   57   33   22   27   65  273  118]\n",
      " [  95 3408   23   31   35   26   12   44  101  281]\n",
      " [ 169   28 2586  214  275  111  210  125   67   23]\n",
      " [ 112   31  166 2706  137  508  209   99   44   52]\n",
      " [  81    7  208  167 2946  114  174  219   56   16]\n",
      " [  42   22  143  730  190 2605   90  220   21   37]\n",
      " [  29   25  165  189  179   84 3194   28   18    9]\n",
      " [  60   21  115  136  229  147   36 3080   34   50]\n",
      " [ 321  119   26   49   32   18   19   37 3256  135]\n",
      " [ 119  255   30   47   37   19   18   62  152 3349]]\n",
      "[[3228   80  112   47   29   18   17   54  339  132]\n",
      " [  80 3483   28   22   27   21   13   24  128  230]\n",
      " [ 143   29 2631  167  262  151  188  123   85   29]\n",
      " [  96   46  197 2546  135  611  219   83   77   54]\n",
      " [  74   11  221  127 2865  156  198  235   76   25]\n",
      " [  39   37  144  575  179 2772   79  201   32   42]\n",
      " [  21   32  188  154  170   95 3193   26   29   12]\n",
      " [  61   32  122  120  191  172   30 3058   47   75]\n",
      " [ 285  124   30   36   25   16   11   21 3311  153]\n",
      " [ 109  324   29   30   26   16   17   35  159 3343]]\n",
      "[[3167   87  133   85   29   23   32   68  271  161]\n",
      " [  74 3427   32   29   35   27   23   42  104  263]\n",
      " [ 132   20 2621  200  242  171  199  124   76   23]\n",
      " [  83   33  172 2600   93  652  237   91   50   53]\n",
      " [  67    9  236  157 2803  199  181  256   59   21]\n",
      " [  30   19  116  582  148 2879   82  187   17   40]\n",
      " [  21   15  214  158  151  107 3194   28   20   12]\n",
      " [  44   14  112  142  170  201   33 3103   34   55]\n",
      " [ 276  124   35   48   27   22   20   38 3260  162]\n",
      " [  79  250   29   53   33   21   19   55  126 3423]]\n"
     ]
    }
   ],
   "source": [
    "# show the trend-line of prediction F1 score for training and test set\n",
    "def plot_f1_over_time(epoch_0_dataframe, all_probs):\n",
    "    # epoch_0_dataframe is the dataframe results at epoch 0\n",
    "    # probs_progression is the list of probabilities for each epoch\n",
    "    gt = np.array(epoch_0_dataframe['y'])\n",
    "    preds = [np.argmax(p, axis=1) for p in all_probs]\n",
    "    f1s = [f1_score(gt, p, average='macro') for p in preds]\n",
    "    fig, ax = plt.subplots(figsize=(12,4))\n",
    "    t = np.arange(len(preds))\n",
    "    ax.plot(t, f1s)\n",
    "    plt.show()\n",
    "\n",
    "def cf_over_time(epoch_0_dataframe, all_probs):\n",
    "    gt = np.array(epoch_0_dataframe['y'])\n",
    "    preds = [np.argmax(p, axis=1) for p in all_probs]\n",
    "    [print(confusion_matrix(gt, p)) for p in preds]\n",
    "\n",
    "plot_f1_over_time(train_df[0], train_probs)\n",
    "plot_f1_over_time(val_df[0], val_probs)\n",
    "cf_over_time(train_df[0], train_probs)\n",
    "cf_over_time(val_df[0], val_probs)"
   ]
  },
  {
   "cell_type": "code",
   "execution_count": 7,
   "id": "50079765",
   "metadata": {},
   "outputs": [
    {
     "name": "stdout",
     "output_type": "stream",
     "text": [
      "Epoch 0, F1 score = 0.7223255958144849\n"
     ]
    },
    {
     "data": {
      "image/png": "[encoded data removed]",
      "text/plain": [
       "<Figure size 576x216 with 1 Axes>"
      ]
     },
     "metadata": {
      "needs_background": "light"
     },
     "output_type": "display_data"
    },
    {
     "name": "stdout",
     "output_type": "stream",
     "text": [
      "Epoch 1, F1 score = 0.7419608342294501\n"
     ]
    },
    {
     "data": {
      "image/png": "[encoded data removed]",
      "text/plain": [
       "<Figure size 576x216 with 1 Axes>"
      ]
     },
     "metadata": {
      "needs_background": "light"
     },
     "output_type": "display_data"
    },
    {
     "name": "stdout",
     "output_type": "stream",
     "text": [
      "Epoch 2, F1 score = 0.7498592774166202\n"
     ]
    },
    {
     "data": {
      "image/png": "[encoded data removed]",
      "text/plain": [
       "<Figure size 576x216 with 1 Axes>"
      ]
     },
     "metadata": {
      "needs_background": "light"
     },
     "output_type": "display_data"
    },
    {
     "name": "stdout",
     "output_type": "stream",
     "text": [
      "Epoch 3, F1 score = 0.7528786863519157\n"
     ]
    },
    {
     "data": {
      "image/png": "[encoded data removed]",
      "text/plain": [
       "<Figure size 576x216 with 1 Axes>"
      ]
     },
     "metadata": {
      "needs_background": "light"
     },
     "output_type": "display_data"
    },
    {
     "name": "stdout",
     "output_type": "stream",
     "text": [
      "Epoch 4, F1 score = 0.7556818362421713\n"
     ]
    },
    {
     "data": {
      "image/png": "[encoded data removed]",
      "text/plain": [
       "<Figure size 576x216 with 1 Axes>"
      ]
     },
     "metadata": {
      "needs_background": "light"
     },
     "output_type": "display_data"
    },
    {
     "name": "stdout",
     "output_type": "stream",
     "text": [
      "Epoch 5, F1 score = 0.7584591404300353\n"
     ]
    },
    {
     "data": {
      "image/png": "[encoded data removed]",
      "text/plain": [
       "<Figure size 576x216 with 1 Axes>"
      ]
     },
     "metadata": {
      "needs_background": "light"
     },
     "output_type": "display_data"
    },
    {
     "name": "stdout",
     "output_type": "stream",
     "text": [
      "Epoch 6, F1 score = 0.7594702461947226\n"
     ]
    },
    {
     "data": {
      "image/png": "[encoded data removed]",
      "text/plain": [
       "<Figure size 576x216 with 1 Axes>"
      ]
     },
     "metadata": {
      "needs_background": "light"
     },
     "output_type": "display_data"
    },
    {
     "name": "stdout",
     "output_type": "stream",
     "text": [
      "Epoch 7, F1 score = 0.7603978717933957\n"
     ]
    },
    {
     "data": {
      "image/png": "[encoded data removed]",
      "text/plain": [
       "<Figure size 576x216 with 1 Axes>"
      ]
     },
     "metadata": {
      "needs_background": "light"
     },
     "output_type": "display_data"
    },
    {
     "name": "stdout",
     "output_type": "stream",
     "text": [
      "Epoch 8, F1 score = 0.7598519140737768\n"
     ]
    },
    {
     "data": {
      "image/png": "[encoded data removed]",
      "text/plain": [
       "<Figure size 576x216 with 1 Axes>"
      ]
     },
     "metadata": {
      "needs_background": "light"
     },
     "output_type": "display_data"
    },
    {
     "name": "stdout",
     "output_type": "stream",
     "text": [
      "Epoch 9, F1 score = 0.7617089176514538\n"
     ]
    },
    {
     "data": {
      "image/png": "[encoded data removed]",
      "text/plain": [
       "<Figure size 576x216 with 1 Axes>"
      ]
     },
     "metadata": {
      "needs_background": "light"
     },
     "output_type": "display_data"
    }
   ],
   "source": [
    "# we are setting up the validation set as the calibration set, to be more kosher, you should use an unseen subset of training\n",
    "# check the certainty distribution of validation set\n",
    "def certainty_hist(y, preds, epoch=-1):\n",
    "    # y is (N,) integer array of C classes\n",
    "    # preds is (N, C) array\n",
    "    pred_classes = np.argmax(preds,axis=1)\n",
    "    pred_confidence = np.max(preds,axis=1)\n",
    "    gt_confidence = preds[range(len(y)),y]\n",
    "    print(f\"Epoch {epoch}, F1 score = {f1_score(y, pred_classes, average='macro')}\")\n",
    "    fig, ax = plt.subplots(figsize=(8,3))\n",
    "    ax.hist([gt_confidence, pred_confidence], bins=49)\n",
    "    plt.legend(['GT', 'argmax'])\n",
    "    plt.title(f\"Epoch {i} label certainty distribution\")\n",
    "    plt.show()\n",
    "\n",
    "# first check the validation set for naive softmaxing\n",
    "for i in range(len(val_df)):\n",
    "    y = val_df[i]['y']\n",
    "    preds = softmax(val_probs[i], axis=1)\n",
    "    certainty_hist(y, preds, i)"
   ]
  },
  {
   "cell_type": "code",
   "execution_count": 8,
   "id": "086a0ae0",
   "metadata": {},
   "outputs": [],
   "source": [
    "# run conformal prediction on a select epoch to return the prediction sets\n",
    "def LABEL(y, preds, alpha=0.1, verbose=False):\n",
    "    # y is (N,) integer array of C classes\n",
    "    # preds is (N, C) array of confidences\n",
    "    \n",
    "    desired_accuracy = 1 - alpha\n",
    "    N = len(y)\n",
    "    pred_classes = np.argmax(preds,axis=1)\n",
    "    pred_confidence = np.max(preds,axis=1)\n",
    "    gt_confidence = preds[range(N),y]\n",
    "    # calculate the conformal score s as a general imprecise uncertainty measure (can be many ways, this is a simple way)\n",
    "    s = 1 - gt_confidence\n",
    "    # find the q level\n",
    "    adj_q_level = np.ceil((N+1) * desired_accuracy)/N\n",
    "    #adj_q_level = desired_accuracy\n",
    "    qhat = np.quantile(s, adj_q_level)\n",
    "    # create sets based on the q-level\n",
    "    cutoff = 1 - qhat\n",
    "    conformal_set = []\n",
    "    for i in range(N):\n",
    "        conformal_set.append(preds[i] >= cutoff)\n",
    "        \n",
    "    if verbose:\n",
    "        print(f\"adjusted q-level {adj_q_level}, q-hat {qhat}\")\n",
    "    return np.array(conformal_set)"
   ]
  },
  {
   "cell_type": "code",
   "execution_count": 9,
   "id": "b169caf7",
   "metadata": {},
   "outputs": [],
   "source": [
    "def APS(cal_labels, cal_smx, alpha=0.1, verbose=False):\n",
    "    # Get scores. calib_X.shape[0] == calib_Y.shape[0] == n\n",
    "    N = cal_smx.shape[0]\n",
    "    \n",
    "    # argsort returns the indices of the sort\n",
    "    cal_pi = cal_smx.argsort(1)[:, ::-1]\n",
    "    \n",
    "    # take_along_axis returns results of the sort, then cumulative sum\n",
    "    cal_srt = np.take_along_axis(cal_smx, cal_pi, axis=1).cumsum(axis=1)\n",
    "    \n",
    "    # this is some 5head stuff I dont get\n",
    "    # but it returns \"the cumulative sum by the time I get to class X\"\n",
    "    cal_scores = np.take_along_axis(cal_srt, cal_pi.argsort(axis=1), axis=1)[range(N), cal_labels]\n",
    "    \n",
    "    # Get the score quantile\n",
    "    adj_q_level = np.ceil((N + 1) * (1 - alpha)) / N\n",
    "    qhat = np.quantile(cal_scores, adj_q_level, interpolation=\"higher\")\n",
    "    if verbose:\n",
    "        print(f\"adjusted q-level {adj_q_level}, q-hat {qhat}\")\n",
    "    \n",
    "    # Deploy (output=list of length n, each element is tensor of classes)\n",
    "    cal_pi = cal_smx.argsort(1)[:, ::-1]\n",
    "    \n",
    "    cal_srt = np.take_along_axis(cal_smx, cal_pi, axis=1).cumsum(axis=1)\n",
    "    \n",
    "    prediction_sets = np.take_along_axis(cal_srt <= qhat, cal_pi.argsort(axis=1), axis=1)\n",
    "    return prediction_sets\n",
    "    "
   ]
  },
  {
   "cell_type": "code",
   "execution_count": 10,
   "id": "1e760d4c",
   "metadata": {},
   "outputs": [],
   "source": [
    "y = val_df[2]['y']\n",
    "preds = softmax(val_probs[2], axis=1)\n",
    "cs = APS(y, preds, ALPHA, verbose=True)\n",
    "print(cs[:15])"
   ]
  },
  {
   "cell_type": "code",
   "execution_count": 12,
   "id": "76ec9d72",
   "metadata": {},
   "outputs": [
    {
     "name": "stdout",
     "output_type": "stream",
     "text": [
      "0.90005\n"
     ]
    }
   ],
   "source": [
    "# test the coverage of conformal prediction\n",
    "def coverage_test(y, preds_cover):\n",
    "    # y is (N,) integer array of C classes\n",
    "    # preds_cover is (N, C) boolean array indicating the cover\n",
    "    correct = []\n",
    "    for i in range(len(y)):\n",
    "        if preds_cover[i, y[i]]:\n",
    "            correct.append(True)\n",
    "        else:\n",
    "            correct.append(False)\n",
    "    return np.array(correct)\n",
    "\n",
    "correctness = coverage_test(y, cs) \n",
    "print(np.sum(correctness)/len(y)) # should be around 0.9"
   ]
  },
  {
   "cell_type": "code",
   "execution_count": 13,
   "id": "57875c17",
   "metadata": {},
   "outputs": [
    {
     "data": {
      "text/plain": [
       "array([0.92455621, 0.79807692, 0.92069328, 0.9601378 , 0.94633902,\n",
       "       0.94780488, 0.92933673, 0.83700102, 0.89257228, 0.8444227 ])"
      ]
     },
     "execution_count": 13,
     "metadata": {},
     "output_type": "execute_result"
    }
   ],
   "source": [
    "def class_conditional_coverage_test(y, preds_cover, num_classes=4):\n",
    "    # returns an accuracy for each class\n",
    "    class_cond_acc = np.zeros(num_classes)\n",
    "    for c in range(num_classes):\n",
    "        mask = y == c\n",
    "        preds_c = preds_cover[mask]\n",
    "        N_c = len(preds_c)\n",
    "        correct = 0\n",
    "        for i in range(N_c):\n",
    "            if preds_c[i,c]:\n",
    "                correct += 1\n",
    "        class_cond_acc[c] = correct/N_c\n",
    "    return class_cond_acc\n",
    "correctness = class_conditional_coverage_test(y, cs, N_CLASSES) \n",
    "correctness"
   ]
  },
  {
   "cell_type": "code",
   "execution_count": 14,
   "id": "9f1429eb",
   "metadata": {},
   "outputs": [
    {
     "name": "stdout",
     "output_type": "stream",
     "text": [
      "Number of correct preds of size [1..N_classes]: [3636 3506 4308 4983 5448 5021 4813 3567  720    0]\n",
      "Number of incorrect preds of size [1..N_classes]: [197  35  55  53  57  47  65  61  17   0]\n",
      "Accuracy of preds of size [1..N_classes]: [0.94860423 0.99011579 0.98739399 0.98947577 0.98964578 0.99072612\n",
      " 0.98667487 0.98318633 0.97693351 0.        ]\n",
      "Top-1 acc of preds of size [1..N_classes]: [0.9486042264542268, 0.9262920079071092, 0.8478111391242612, 0.7714455917393225, 0.7133514986374725, 0.6602209944750078, 0.5744157441573238, 0.48401323042985556, 0.38398914518265403, 0.0]\n"
     ]
    },
    {
     "data": {
      "text/plain": [
       "4.2971"
      ]
     },
     "execution_count": 14,
     "metadata": {},
     "output_type": "execute_result"
    }
   ],
   "source": [
    "# check the cardinality of the conformal prediction\n",
    "def cp_cardinality(y, preds_cover, preds, n_classes=4):\n",
    "    cardinality = np.sum(preds_cover, axis=1)\n",
    "    correct = coverage_test(y, preds_cover)\n",
    "    card_correct = cardinality[correct]\n",
    "    card_incorrect = cardinality[~correct]\n",
    "    \n",
    "    n_bins = n_classes + 1\n",
    "    c_amount, c_bins = np.histogram(card_correct, bins=np.arange(n_bins)+0.5)\n",
    "    n_amount, _ = np.histogram(card_incorrect, bins=np.arange(n_bins)+0.5)\n",
    "    card_acc = c_amount / (c_amount + n_amount + 1e-9)\n",
    "    print(f\"Number of correct preds of size [1..N_classes]: {c_amount}\")\n",
    "    print(f\"Number of incorrect preds of size [1..N_classes]: {n_amount}\")\n",
    "    print(f\"Accuracy of preds of size [1..N_classes]: {card_acc}\")\n",
    "\n",
    "    top1_accs = []\n",
    "    pred_classes = np.argmax(preds, axis=1)\n",
    "    for i in np.arange(n_classes)+1:\n",
    "        gt_w_card_i = y[cardinality==i]\n",
    "        pred_w_card_i = pred_classes[cardinality==i]\n",
    "        acc_w_card_i = np.sum(gt_w_card_i == pred_w_card_i) / (len(gt_w_card_i) + 1e-9)\n",
    "        top1_accs.append(acc_w_card_i)\n",
    "    print(f\"Top-1 acc of preds of size [1..N_classes]: {top1_accs}\")\n",
    "    return np.mean(cardinality)\n",
    "\n",
    "cp_cardinality(y, cs, preds, n_classes=N_CLASSES)"
   ]
  },
  {
   "cell_type": "code",
   "execution_count": 15,
   "id": "27bdf1bc",
   "metadata": {},
   "outputs": [
    {
     "name": "stdout",
     "output_type": "stream",
     "text": [
      "Epoch 0\n",
      "Original classifier F1 = 0.7223255958144849\n",
      "Conformal coverage accuracy = 0.90005\n",
      "Class-conditional coverage accuracy = [0.92578895 0.75887574 0.93040966 0.96530512 0.93931795 0.93243902\n",
      " 0.93545918 0.86821904 0.86764706 0.87891389]\n",
      "Number of correct preds of size [1..N_classes]: [3305 3394 4295 5102 5527 4908 5044 3735  692    0]\n",
      "Number of incorrect preds of size [1..N_classes]: [221  67  72  61  68  58  79  71  11   0]\n",
      "Accuracy of preds of size [1..N_classes]: [0.93732275 0.98064143 0.98351271 0.98818516 0.98784629 0.98832058\n",
      " 0.98457935 0.98134524 0.98435277 0.        ]\n",
      "Top-1 acc of preds of size [1..N_classes]: [0.9373227453202106, 0.8893383415195351, 0.8273414243185647, 0.7420104590353007, 0.6807864164431312, 0.6379379782519858, 0.55358188561379, 0.4700472937465922, 0.3271692745372302, 0.0]\n",
      "Epoch 1\n",
      "Original classifier F1 = 0.7419608342294501\n",
      "Conformal coverage accuracy = 0.90005\n",
      "Class-conditional coverage accuracy = [0.91444773 0.74408284 0.93277311 0.96579724 0.95160481 0.94414634\n",
      " 0.90433673 0.85440123 0.91251246 0.87744618]\n",
      "Number of correct preds of size [1..N_classes]: [3478 3522 4486 5136 5558 4978 4746 3419  679    0]\n",
      "Number of incorrect preds of size [1..N_classes]: [194  53  61  71  54  64  60  77  11   0]\n",
      "Accuracy of preds of size [1..N_classes]: [0.94716776 0.98517483 0.98658456 0.98636451 0.99037776 0.98730662\n",
      " 0.98751561 0.97797483 0.98405797 0.        ]\n",
      "Top-1 acc of preds of size [1..N_classes]: [0.9471677559910274, 0.9068531468528932, 0.8387948097644955, 0.7618590359130474, 0.6846044191018024, 0.6495438318126439, 0.5861423220972563, 0.485125858123431, 0.3608695652168683, 0.0]\n",
      "Epoch 2\n",
      "Original classifier F1 = 0.7498592774166202\n",
      "Conformal coverage accuracy = 0.90005\n",
      "Class-conditional coverage accuracy = [0.92455621 0.79807692 0.92069328 0.9601378  0.94633902 0.94780488\n",
      " 0.92933673 0.83700102 0.89257228 0.8444227 ]\n",
      "Number of correct preds of size [1..N_classes]: [3636 3506 4308 4983 5448 5021 4813 3567  720    0]\n",
      "Number of incorrect preds of size [1..N_classes]: [197  35  55  53  57  47  65  61  17   0]\n",
      "Accuracy of preds of size [1..N_classes]: [0.94860423 0.99011579 0.98739399 0.98947577 0.98964578 0.99072612\n",
      " 0.98667487 0.98318633 0.97693351 0.        ]\n",
      "Top-1 acc of preds of size [1..N_classes]: [0.9486042264542268, 0.9262920079071092, 0.8478111391242612, 0.7714455917393225, 0.7133514986374725, 0.6602209944750078, 0.5744157441573238, 0.48401323042985556, 0.38398914518265403, 0.0]\n",
      "Epoch 3\n",
      "Original classifier F1 = 0.7528786863519157\n",
      "Conformal coverage accuracy = 0.90005\n",
      "Class-conditional coverage accuracy = [0.92973373 0.77736686 0.90808824 0.96186024 0.9385657  0.94439024\n",
      " 0.9244898  0.89201638 0.89830508 0.82729941]\n",
      "Number of correct preds of size [1..N_classes]: [3827 3834 4364 5243 5534 5042 4539 3060  559    0]\n",
      "Number of incorrect preds of size [1..N_classes]: [216  70  54  65  55  59  62  70   7   0]\n",
      "Accuracy of preds of size [1..N_classes]: [0.94657433 0.98206967 0.98777727 0.98775433 0.99015924 0.98843364\n",
      " 0.98652467 0.97763578 0.98763251 0.        ]\n",
      "Top-1 acc of preds of size [1..N_classes]: [0.9465743259953138, 0.9080430327866527, 0.8454051607060105, 0.7709118311980461, 0.7121130792627103, 0.6518329739265531, 0.5737883068896819, 0.46070287539921384, 0.37809187279085144, 0.0]\n",
      "Epoch 4\n",
      "Original classifier F1 = 0.7556818362421713\n",
      "Conformal coverage accuracy = 0.90005\n",
      "Class-conditional coverage accuracy = [0.91765286 0.79043393 0.92673319 0.94980315 0.93681043 0.93317073\n",
      " 0.92091837 0.8567042  0.88409771 0.88502935]\n",
      "Number of correct preds of size [1..N_classes]: [3957 4132 4826 5589 5447 4864 4144 2631  412    0]\n",
      "Number of incorrect preds of size [1..N_classes]: [207  57  72  79  88  73  80  61   8   0]\n",
      "Accuracy of preds of size [1..N_classes]: [0.95028818 0.98639293 0.98530012 0.9860621  0.98410117 0.98521369\n",
      " 0.98106061 0.97734027 0.98095238 0.        ]\n",
      "Top-1 acc of preds of size [1..N_classes]: [0.950288184437812, 0.9080926235376203, 0.830338913842215, 0.7635850388142619, 0.6953929539294136, 0.6420903382619724, 0.5561079545453228, 0.4717682020800625, 0.35952380952295354, 0.0]\n",
      "Epoch 5\n",
      "Original classifier F1 = 0.7584591404300353\n",
      "Conformal coverage accuracy = 0.90005\n",
      "Class-conditional coverage accuracy = [0.90877712 0.78920118 0.94642857 0.96481299 0.93505517 0.93365854\n",
      " 0.89617347 0.86770727 0.89905284 0.86154599]\n",
      "Number of correct preds of size [1..N_classes]: [3982 4023 4699 5365 5644 4990 4338 2570  391    0]\n",
      "Number of incorrect preds of size [1..N_classes]: [203  68  63  65  66  59  93  53   7   0]\n",
      "Accuracy of preds of size [1..N_classes]: [0.95149343 0.98337815 0.98677026 0.98802947 0.98844133 0.98831452\n",
      " 0.97901151 0.97979413 0.98241206 0.        ]\n",
      "Top-1 acc of preds of size [1..N_classes]: [0.9514934289125563, 0.9117575164994105, 0.8450230995378317, 0.7613259668506884, 0.7108581436075813, 0.6411170528816317, 0.5637553599637635, 0.47464735036199973, 0.3592964824111576, 0.0]\n",
      "Epoch 6\n",
      "Original classifier F1 = 0.7594702461947226\n",
      "Conformal coverage accuracy = 0.90005\n",
      "Class-conditional coverage accuracy = [0.92307692 0.76503945 0.93434874 0.9621063  0.94709127 0.93682927\n",
      " 0.91760204 0.8618219  0.88185444 0.8723092 ]\n",
      "Number of correct preds of size [1..N_classes]: [3995 4038 4806 5421 5547 5071 4300 2493  331    0]\n",
      "Number of incorrect preds of size [1..N_classes]: [176  55  52  75  51  64  86  58   3   0]\n",
      "Accuracy of preds of size [1..N_classes]: [0.95780388 0.98656242 0.98929601 0.98635371 0.9908896  0.98753651\n",
      " 0.98039216 0.97726382 0.99101796 0.        ]\n",
      "Top-1 acc of preds of size [1..N_classes]: [0.9578038839604511, 0.9110676765206668, 0.8443804034580393, 0.7696506550216939, 0.7081100392996234, 0.6414800389482684, 0.5615595075238117, 0.4480595844765002, 0.34730538922051707, 0.0]\n",
      "Epoch 7\n",
      "Original classifier F1 = 0.7603978717933957\n",
      "Conformal coverage accuracy = 0.90005\n",
      "Class-conditional coverage accuracy = [0.89669625 0.78032544 0.93093487 0.96530512 0.94082247 0.94536585\n",
      " 0.93290816 0.86054248 0.87088734 0.87818004]\n",
      "Number of correct preds of size [1..N_classes]: [3967 4148 4793 5759 5674 4913 4149 2290  309    0]\n",
      "Number of incorrect preds of size [1..N_classes]: [178  60  63  72  65  76  72  59   5   0]\n",
      "Accuracy of preds of size [1..N_classes]: [0.95705669 0.98574144 0.98702636 0.9876522  0.98867399 0.98476649\n",
      " 0.98294243 0.97488293 0.98407643 0.        ]\n",
      "Top-1 acc of preds of size [1..N_classes]: [0.9570566948127968, 0.9127851711024446, 0.8379324546950497, 0.7650488766934033, 0.7018644363128241, 0.6359991982359919, 0.5565031982941112, 0.4610472541505062, 0.36624203821539414, 0.0]\n",
      "Epoch 8\n",
      "Original classifier F1 = 0.7598519140737768\n",
      "Conformal coverage accuracy = 0.90005\n",
      "Class-conditional coverage accuracy = [0.91740631 0.74679487 0.93329832 0.9640748  0.94558676 0.94487805\n",
      " 0.92831633 0.87538383 0.86989033 0.87695695]\n",
      "Number of correct preds of size [1..N_classes]: [4121 4194 4775 5539 5532 5027 4175 2353  286    0]\n",
      "Number of incorrect preds of size [1..N_classes]: [205  63  56  72  69  66  98  58   5   0]\n",
      "Accuracy of preds of size [1..N_classes]: [0.95261211 0.98520085 0.9884082  0.98716806 0.98768077 0.98704104\n",
      " 0.97706529 0.97594359 0.98281787 0.        ]\n",
      "Top-1 acc of preds of size [1..N_classes]: [0.9526121128060673, 0.9170777542868411, 0.8395777271784641, 0.7683122438066711, 0.6964827709336374, 0.6377380718632165, 0.5560496138543046, 0.45624222314373447, 0.374570446734108, 0.0]\n",
      "Epoch 9\n",
      "Original classifier F1 = 0.7617089176514538\n",
      "Conformal coverage accuracy = 0.90005\n",
      "Class-conditional coverage accuracy = [0.93022682 0.77490138 0.9220063  0.96850394 0.94809428 0.93853659\n",
      " 0.93596939 0.84953941 0.89431705 0.83977495]\n",
      "Number of correct preds of size [1..N_classes]: [4153 4277 5044 5713 5581 4919 3960 2106  249    0]\n",
      "Number of incorrect preds of size [1..N_classes]: [186  73  72  72  68  80  92  45   6   0]\n",
      "Accuracy of preds of size [1..N_classes]: [0.95713298 0.98321839 0.98592651 0.98755402 0.98796247 0.9839968\n",
      " 0.97729516 0.9790795  0.97647059 0.        ]\n",
      "Top-1 acc of preds of size [1..N_classes]: [0.9571329799490764, 0.9064367816089869, 0.8442142298669185, 0.754537597234096, 0.696229421136361, 0.633726745348943, 0.5486179664361923, 0.455137145513503, 0.36470588235151097, 0.0]\n"
     ]
    }
   ],
   "source": [
    "# run conformal prediction on each epoch\n",
    "f1s = []\n",
    "coverages = []\n",
    "cardinalities = []\n",
    "for i in range(len(val_df)):\n",
    "    y = np.array(val_df[i]['y'])\n",
    "    preds = softmax(val_probs[i], axis=1)\n",
    "    pred_classes = np.argmax(preds,axis=1)\n",
    "    print(f\"Epoch {i}\")\n",
    "    print(f\"Original classifier F1 = {f1_score(y, pred_classes, average='macro')}\")\n",
    "    f1s.append(f1_score(y, pred_classes, average='macro'))\n",
    "    \n",
    "    #cs = LABEL(y, preds, ALPHA)\n",
    "    cs = APS(y, preds, ALPHA)\n",
    "    \n",
    "    correctness = coverage_test(y, cs)\n",
    "    print(f\"Conformal coverage accuracy = {np.sum(correctness)/len(y)}\")\n",
    "    coverages.append(np.sum(correctness)/len(y))\n",
    "    correctness = class_conditional_coverage_test(y, cs, num_classes=N_CLASSES)\n",
    "    print(f\"Class-conditional coverage accuracy = {correctness}\")\n",
    "    avg_card = cp_cardinality(y, cs, preds, n_classes=N_CLASSES)\n",
    "    cardinalities.append(avg_card)"
   ]
  },
  {
   "cell_type": "code",
   "execution_count": 16,
   "id": "ee8286a5",
   "metadata": {},
   "outputs": [
    {
     "data": {
      "image/png": "[encoded data removed]",
      "text/plain": [
       "<Figure size 432x288 with 1 Axes>"
      ]
     },
     "metadata": {
      "needs_background": "light"
     },
     "output_type": "display_data"
    },
    {
     "data": {
      "image/png": "[encoded data removed]",
      "text/plain": [
       "<Figure size 432x288 with 1 Axes>"
      ]
     },
     "metadata": {
      "needs_background": "light"
     },
     "output_type": "display_data"
    }
   ],
   "source": [
    "plt.plot(range(len(val_df)), f1s)\n",
    "plt.plot(range(len(val_df)), coverages)\n",
    "plt.plot(range(len(val_df)), np.full(shape=len(val_df), fill_value=0.90))\n",
    "plt.title('Label evolution: validation set top-1 F1 vs coverage over training')\n",
    "plt.legend(['top-1 F1 score', 'coverage acc.', 'theoretical coverage acc.'])\n",
    "plt.show()\n",
    "\n",
    "plt.figure()\n",
    "plt.plot(range(len(val_df)), cardinalities)\n",
    "plt.title('Coverage cardinality over time')\n",
    "plt.legend(['Cardinality'])\n",
    "plt.show()"
   ]
  },
  {
   "cell_type": "code",
   "execution_count": null,
   "id": "deb8c6bc",
   "metadata": {},
   "outputs": [],
   "source": []
  }
 ],
 "metadata": {
  "kernelspec": {
   "display_name": "Python 3 (ipykernel)",
   "language": "python",
   "name": "python3"
  },
  "language_info": {
   "codemirror_mode": {
    "name": "ipython",
    "version": 3
   },
   "file_extension": ".py",
   "mimetype": "text/x-python",
   "name": "python",
   "nbconvert_exporter": "python",
   "pygments_lexer": "ipython3",
   "version": "3.7.13"
  }
 },
 "nbformat": 4,
 "nbformat_minor": 5
}
